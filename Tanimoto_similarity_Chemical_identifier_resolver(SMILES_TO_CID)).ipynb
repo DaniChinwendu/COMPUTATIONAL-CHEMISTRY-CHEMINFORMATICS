{
  "nbformat": 4,
  "nbformat_minor": 0,
  "metadata": {
    "colab": {
      "name": "Tanimoto similarity/Chemical identifier resolver(SMILES TO CID))",
      "provenance": [],
      "authorship_tag": "ABX9TyPNwWbzIpAjiqUIToz9/iVc",
      "include_colab_link": true
    },
    "kernelspec": {
      "name": "python3",
      "display_name": "Python 3"
    },
    "language_info": {
      "name": "python"
    }
  },
  "cells": [
    {
      "cell_type": "markdown",
      "metadata": {
        "id": "view-in-github",
        "colab_type": "text"
      },
      "source": [
        "<a href=\"https://colab.research.google.com/github/DaniChinwendu/COMPUTATIONAL-CHEMISTRY-CHEMINFORMATICS/blob/main/Tanimoto_similarity_Chemical_identifier_resolver(SMILES_TO_CID)).ipynb\" target=\"_parent\"><img src=\"https://colab.research.google.com/assets/colab-badge.svg\" alt=\"Open In Colab\"/></a>"
      ]
    },
    {
      "cell_type": "code",
      "execution_count": null,
      "metadata": {
        "id": "LLRuFScD3wA6"
      },
      "outputs": [],
      "source": [
        "import io"
      ]
    },
    {
      "cell_type": "code",
      "source": [
        "pip install rdkit-pypi"
      ],
      "metadata": {
        "colab": {
          "base_uri": "https://localhost:8080/"
        },
        "id": "9XpV6iBW39L1",
        "outputId": "0729867a-9f91-4758-edf5-d3f4c27bc2ce"
      },
      "execution_count": null,
      "outputs": [
        {
          "output_type": "stream",
          "name": "stdout",
          "text": [
            "Looking in indexes: https://pypi.org/simple, https://us-python.pkg.dev/colab-wheels/public/simple/\n",
            "Requirement already satisfied: rdkit-pypi in /usr/local/lib/python3.7/dist-packages (2022.3.3)\n",
            "Requirement already satisfied: Pillow in /usr/local/lib/python3.7/dist-packages (from rdkit-pypi) (7.1.2)\n",
            "Requirement already satisfied: numpy in /usr/local/lib/python3.7/dist-packages (from rdkit-pypi) (1.21.6)\n"
          ]
        }
      ]
    },
    {
      "cell_type": "code",
      "source": [
        "pip install pubchempy"
      ],
      "metadata": {
        "colab": {
          "base_uri": "https://localhost:8080/"
        },
        "id": "dScDaHE9ImWg",
        "outputId": "6c96b57c-5eb2-4c4b-8806-e33eb2f60be4"
      },
      "execution_count": null,
      "outputs": [
        {
          "output_type": "stream",
          "name": "stdout",
          "text": [
            "Looking in indexes: https://pypi.org/simple, https://us-python.pkg.dev/colab-wheels/public/simple/\n",
            "Requirement already satisfied: pubchempy in /usr/local/lib/python3.7/dist-packages (1.0.4)\n"
          ]
        }
      ]
    },
    {
      "cell_type": "code",
      "source": [
        "from rdkit import Chem\n",
        "from rdkit.Chem import Draw,AllChem\n",
        "from rdkit.Chem import Descriptors\n",
        "from rdkit.Chem import Fragments\n",
        "from rdkit import DataStructs\n",
        "from rdkit.DataManip.Metric import GetTanimotoDistMat\n",
        "from rdkit.DataManip.Metric import GetTanimotoSimMat"
      ],
      "metadata": {
        "id": "vtEuC6b54Ibd"
      },
      "execution_count": null,
      "outputs": []
    },
    {
      "cell_type": "code",
      "source": [
        "import pubchempy as pcp\n",
        "from pubchempy import get_compounds, Compound"
      ],
      "metadata": {
        "id": "WrXDx4W1Ir6W"
      },
      "execution_count": null,
      "outputs": []
    },
    {
      "cell_type": "code",
      "source": [
        "\n",
        "%matplotlib inline\n",
        "import pandas as pd\n",
        "import seaborn as sns\n",
        "import matplotlib.pyplot as plt"
      ],
      "metadata": {
        "id": "1f9h5Mud4QvL"
      },
      "execution_count": null,
      "outputs": []
    },
    {
      "cell_type": "code",
      "source": [
        "from google.colab import files\n",
        "uploaded=files.upload()\n",
        "import pandas as pd"
      ],
      "metadata": {
        "colab": {
          "resources": {
            "http://localhost:8080/nbextensions/google.colab/files.js": {
              "data": "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",
              "ok": true,
              "headers": [
                [
                  "content-type",
                  "application/javascript"
                ]
              ],
              "status": 200,
              "status_text": ""
            }
          },
          "base_uri": "https://localhost:8080/",
          "height": 178
        },
        "id": "Sp1VqKRz4WVG",
        "outputId": "4cc5e4cf-d4e4-4e15-9eca-bafe406916ae"
      },
      "execution_count": null,
      "outputs": [
        {
          "output_type": "display_data",
          "data": {
            "text/plain": [
              "<IPython.core.display.HTML object>"
            ],
            "text/html": [
              "\n",
              "     <input type=\"file\" id=\"files-130a1a3f-ceac-4806-9b47-a604b17ddfb0\" name=\"files[]\" multiple disabled\n",
              "        style=\"border:none\" />\n",
              "     <output id=\"result-130a1a3f-ceac-4806-9b47-a604b17ddfb0\">\n",
              "      Upload widget is only available when the cell has been executed in the\n",
              "      current browser session. Please rerun this cell to enable.\n",
              "      </output>\n",
              "      <script src=\"/nbextensions/google.colab/files.js\"></script> "
            ]
          },
          "metadata": {}
        },
        {
          "output_type": "stream",
          "name": "stdout",
          "text": [
            "Saving Tanimoto similarity for merged data(non duplicates) (1).xlsx to Tanimoto similarity for merged data(non duplicates) (1) (2).xlsx\n"
          ]
        }
      ]
    },
    {
      "cell_type": "code",
      "source": [
        "\n",
        "#importing the LLNA sensitizing data set\n",
        "df1=pd.read_excel(io.BytesIO(uploaded['Tanimoto similarity for merged data(non duplicates) (1).xlsx']))"
      ],
      "metadata": {
        "id": "4bIPREYq41w0"
      },
      "execution_count": null,
      "outputs": []
    },
    {
      "cell_type": "code",
      "source": [
        "df1.tail()"
      ],
      "metadata": {
        "colab": {
          "base_uri": "https://localhost:8080/",
          "height": 472
        },
        "id": "BrKQ5gaH5Mxx",
        "outputId": "3233aee5-0f26-4954-ef85-e466c3944cc4"
      },
      "execution_count": null,
      "outputs": [
        {
          "output_type": "execute_result",
          "data": {
            "text/plain": [
              "      Unnamed: 0  Unnamed: 0.1  Unnamed: 0.1.1  \\\n",
              "1239      1348.0        1034.0          1279.0   \n",
              "1240      1349.0        1035.0          1280.0   \n",
              "1241      1350.0        1036.0          1281.0   \n",
              "1242      1351.0        1037.0          1282.0   \n",
              "1243      1352.0        1038.0          1283.0   \n",
              "\n",
              "                                         Substance Name   Name type  \\\n",
              "1239                          N-butylbenzenesulfonamide  IUPAC Name   \n",
              "1240                                unnamed [3709-71-5]         NaN   \n",
              "1241  2-(4-{2-[4-(2-hydroxyethoxy)phenyl]propan-2-yl...  IUPAC Name   \n",
              "1242                        sodium hydroxysilanoylolate  IUPAC Name   \n",
              "1243                                 unnamed [147-14-8]         NaN   \n",
              "\n",
              "         Number Number type  Member of Category Substance Link Participant  \\\n",
              "1239  3622-84-2  CAS Number               False            NaN  ECHA REACH   \n",
              "1240  3709-71-5  CAS Number               False            NaN  ECHA REACH   \n",
              "1241   901-44-0  CAS Number               False            NaN  ECHA REACH   \n",
              "1242  1344-09-8  CAS Number                True            NaN  ECHA REACH   \n",
              "1243   147-14-8  CAS Number                True            NaN  ECHA REACH   \n",
              "\n",
              "     Participant Link             Section Endpoint Link  \\\n",
              "1239              NaN  Skin sensitisation           NaN   \n",
              "1240              NaN  Skin sensitisation           NaN   \n",
              "1241              NaN  Skin sensitisation           NaN   \n",
              "1242              NaN  Skin sensitisation           NaN   \n",
              "1243              NaN  Skin sensitisation           NaN   \n",
              "\n",
              "                                                 Values  \\\n",
              "1239  Type of information:experimental study\\nReliab...   \n",
              "1240  Type of information:experimental study\\nReliab...   \n",
              "1241  Type of information:experimental study\\nReliab...   \n",
              "1242  Type of information:experimental study\\nReliab...   \n",
              "1243  Type of information:experimental study\\nReliab...   \n",
              "\n",
              "                                            Smiles_name  \n",
              "1239                           CCCCN[S](=O)(=O)c1ccccc1  \n",
              "1240      C(=C(/C(F)(F)F)\\F)(\\C(C(F)(F)F)(C(F)(F)F)F)/F  \n",
              "1241                CC(C)(c1ccc(OCCO)cc1)c2ccc(OCCO)cc2  \n",
              "1242             O.O.O.O.O.[Na+].[Na+].[O-][Si]([O-])=O  \n",
              "1243  [Cu]1N2C3=NC4=NC(=Nc5n1c(N=C6N=C(N=C2c7ccccc37...  "
            ],
            "text/html": [
              "\n",
              "  <div id=\"df-d31aca4a-74c3-4d83-9f53-bc6e6bef4fb2\">\n",
              "    <div class=\"colab-df-container\">\n",
              "      <div>\n",
              "<style scoped>\n",
              "    .dataframe tbody tr th:only-of-type {\n",
              "        vertical-align: middle;\n",
              "    }\n",
              "\n",
              "    .dataframe tbody tr th {\n",
              "        vertical-align: top;\n",
              "    }\n",
              "\n",
              "    .dataframe thead th {\n",
              "        text-align: right;\n",
              "    }\n",
              "</style>\n",
              "<table border=\"1\" class=\"dataframe\">\n",
              "  <thead>\n",
              "    <tr style=\"text-align: right;\">\n",
              "      <th></th>\n",
              "      <th>Unnamed: 0</th>\n",
              "      <th>Unnamed: 0.1</th>\n",
              "      <th>Unnamed: 0.1.1</th>\n",
              "      <th>Substance Name</th>\n",
              "      <th>Name type</th>\n",
              "      <th>Number</th>\n",
              "      <th>Number type</th>\n",
              "      <th>Member of Category</th>\n",
              "      <th>Substance Link</th>\n",
              "      <th>Participant</th>\n",
              "      <th>Participant Link</th>\n",
              "      <th>Section</th>\n",
              "      <th>Endpoint Link</th>\n",
              "      <th>Values</th>\n",
              "      <th>Smiles_name</th>\n",
              "    </tr>\n",
              "  </thead>\n",
              "  <tbody>\n",
              "    <tr>\n",
              "      <th>1239</th>\n",
              "      <td>1348.0</td>\n",
              "      <td>1034.0</td>\n",
              "      <td>1279.0</td>\n",
              "      <td>N-butylbenzenesulfonamide</td>\n",
              "      <td>IUPAC Name</td>\n",
              "      <td>3622-84-2</td>\n",
              "      <td>CAS Number</td>\n",
              "      <td>False</td>\n",
              "      <td>NaN</td>\n",
              "      <td>ECHA REACH</td>\n",
              "      <td>NaN</td>\n",
              "      <td>Skin sensitisation</td>\n",
              "      <td>NaN</td>\n",
              "      <td>Type of information:experimental study\\nReliab...</td>\n",
              "      <td>CCCCN[S](=O)(=O)c1ccccc1</td>\n",
              "    </tr>\n",
              "    <tr>\n",
              "      <th>1240</th>\n",
              "      <td>1349.0</td>\n",
              "      <td>1035.0</td>\n",
              "      <td>1280.0</td>\n",
              "      <td>unnamed [3709-71-5]</td>\n",
              "      <td>NaN</td>\n",
              "      <td>3709-71-5</td>\n",
              "      <td>CAS Number</td>\n",
              "      <td>False</td>\n",
              "      <td>NaN</td>\n",
              "      <td>ECHA REACH</td>\n",
              "      <td>NaN</td>\n",
              "      <td>Skin sensitisation</td>\n",
              "      <td>NaN</td>\n",
              "      <td>Type of information:experimental study\\nReliab...</td>\n",
              "      <td>C(=C(/C(F)(F)F)\\F)(\\C(C(F)(F)F)(C(F)(F)F)F)/F</td>\n",
              "    </tr>\n",
              "    <tr>\n",
              "      <th>1241</th>\n",
              "      <td>1350.0</td>\n",
              "      <td>1036.0</td>\n",
              "      <td>1281.0</td>\n",
              "      <td>2-(4-{2-[4-(2-hydroxyethoxy)phenyl]propan-2-yl...</td>\n",
              "      <td>IUPAC Name</td>\n",
              "      <td>901-44-0</td>\n",
              "      <td>CAS Number</td>\n",
              "      <td>False</td>\n",
              "      <td>NaN</td>\n",
              "      <td>ECHA REACH</td>\n",
              "      <td>NaN</td>\n",
              "      <td>Skin sensitisation</td>\n",
              "      <td>NaN</td>\n",
              "      <td>Type of information:experimental study\\nReliab...</td>\n",
              "      <td>CC(C)(c1ccc(OCCO)cc1)c2ccc(OCCO)cc2</td>\n",
              "    </tr>\n",
              "    <tr>\n",
              "      <th>1242</th>\n",
              "      <td>1351.0</td>\n",
              "      <td>1037.0</td>\n",
              "      <td>1282.0</td>\n",
              "      <td>sodium hydroxysilanoylolate</td>\n",
              "      <td>IUPAC Name</td>\n",
              "      <td>1344-09-8</td>\n",
              "      <td>CAS Number</td>\n",
              "      <td>True</td>\n",
              "      <td>NaN</td>\n",
              "      <td>ECHA REACH</td>\n",
              "      <td>NaN</td>\n",
              "      <td>Skin sensitisation</td>\n",
              "      <td>NaN</td>\n",
              "      <td>Type of information:experimental study\\nReliab...</td>\n",
              "      <td>O.O.O.O.O.[Na+].[Na+].[O-][Si]([O-])=O</td>\n",
              "    </tr>\n",
              "    <tr>\n",
              "      <th>1243</th>\n",
              "      <td>1352.0</td>\n",
              "      <td>1038.0</td>\n",
              "      <td>1283.0</td>\n",
              "      <td>unnamed [147-14-8]</td>\n",
              "      <td>NaN</td>\n",
              "      <td>147-14-8</td>\n",
              "      <td>CAS Number</td>\n",
              "      <td>True</td>\n",
              "      <td>NaN</td>\n",
              "      <td>ECHA REACH</td>\n",
              "      <td>NaN</td>\n",
              "      <td>Skin sensitisation</td>\n",
              "      <td>NaN</td>\n",
              "      <td>Type of information:experimental study\\nReliab...</td>\n",
              "      <td>[Cu]1N2C3=NC4=NC(=Nc5n1c(N=C6N=C(N=C2c7ccccc37...</td>\n",
              "    </tr>\n",
              "  </tbody>\n",
              "</table>\n",
              "</div>\n",
              "      <button class=\"colab-df-convert\" onclick=\"convertToInteractive('df-d31aca4a-74c3-4d83-9f53-bc6e6bef4fb2')\"\n",
              "              title=\"Convert this dataframe to an interactive table.\"\n",
              "              style=\"display:none;\">\n",
              "        \n",
              "  <svg xmlns=\"http://www.w3.org/2000/svg\" height=\"24px\"viewBox=\"0 0 24 24\"\n",
              "       width=\"24px\">\n",
              "    <path d=\"M0 0h24v24H0V0z\" fill=\"none\"/>\n",
              "    <path d=\"M18.56 5.44l.94 2.06.94-2.06 2.06-.94-2.06-.94-.94-2.06-.94 2.06-2.06.94zm-11 1L8.5 8.5l.94-2.06 2.06-.94-2.06-.94L8.5 2.5l-.94 2.06-2.06.94zm10 10l.94 2.06.94-2.06 2.06-.94-2.06-.94-.94-2.06-.94 2.06-2.06.94z\"/><path d=\"M17.41 7.96l-1.37-1.37c-.4-.4-.92-.59-1.43-.59-.52 0-1.04.2-1.43.59L10.3 9.45l-7.72 7.72c-.78.78-.78 2.05 0 2.83L4 21.41c.39.39.9.59 1.41.59.51 0 1.02-.2 1.41-.59l7.78-7.78 2.81-2.81c.8-.78.8-2.07 0-2.86zM5.41 20L4 18.59l7.72-7.72 1.47 1.35L5.41 20z\"/>\n",
              "  </svg>\n",
              "      </button>\n",
              "      \n",
              "  <style>\n",
              "    .colab-df-container {\n",
              "      display:flex;\n",
              "      flex-wrap:wrap;\n",
              "      gap: 12px;\n",
              "    }\n",
              "\n",
              "    .colab-df-convert {\n",
              "      background-color: #E8F0FE;\n",
              "      border: none;\n",
              "      border-radius: 50%;\n",
              "      cursor: pointer;\n",
              "      display: none;\n",
              "      fill: #1967D2;\n",
              "      height: 32px;\n",
              "      padding: 0 0 0 0;\n",
              "      width: 32px;\n",
              "    }\n",
              "\n",
              "    .colab-df-convert:hover {\n",
              "      background-color: #E2EBFA;\n",
              "      box-shadow: 0px 1px 2px rgba(60, 64, 67, 0.3), 0px 1px 3px 1px rgba(60, 64, 67, 0.15);\n",
              "      fill: #174EA6;\n",
              "    }\n",
              "\n",
              "    [theme=dark] .colab-df-convert {\n",
              "      background-color: #3B4455;\n",
              "      fill: #D2E3FC;\n",
              "    }\n",
              "\n",
              "    [theme=dark] .colab-df-convert:hover {\n",
              "      background-color: #434B5C;\n",
              "      box-shadow: 0px 1px 3px 1px rgba(0, 0, 0, 0.15);\n",
              "      filter: drop-shadow(0px 1px 2px rgba(0, 0, 0, 0.3));\n",
              "      fill: #FFFFFF;\n",
              "    }\n",
              "  </style>\n",
              "\n",
              "      <script>\n",
              "        const buttonEl =\n",
              "          document.querySelector('#df-d31aca4a-74c3-4d83-9f53-bc6e6bef4fb2 button.colab-df-convert');\n",
              "        buttonEl.style.display =\n",
              "          google.colab.kernel.accessAllowed ? 'block' : 'none';\n",
              "\n",
              "        async function convertToInteractive(key) {\n",
              "          const element = document.querySelector('#df-d31aca4a-74c3-4d83-9f53-bc6e6bef4fb2');\n",
              "          const dataTable =\n",
              "            await google.colab.kernel.invokeFunction('convertToInteractive',\n",
              "                                                     [key], {});\n",
              "          if (!dataTable) return;\n",
              "\n",
              "          const docLinkHtml = 'Like what you see? Visit the ' +\n",
              "            '<a target=\"_blank\" href=https://colab.research.google.com/notebooks/data_table.ipynb>data table notebook</a>'\n",
              "            + ' to learn more about interactive tables.';\n",
              "          element.innerHTML = '';\n",
              "          dataTable['output_type'] = 'display_data';\n",
              "          await google.colab.output.renderOutput(dataTable, element);\n",
              "          const docLink = document.createElement('div');\n",
              "          docLink.innerHTML = docLinkHtml;\n",
              "          element.appendChild(docLink);\n",
              "        }\n",
              "      </script>\n",
              "    </div>\n",
              "  </div>\n",
              "  "
            ]
          },
          "metadata": {},
          "execution_count": 10
        }
      ]
    },
    {
      "cell_type": "code",
      "source": [
        "Smiles=df1['Smiles_name']\n",
        "Smiles_list=list(Smiles)\n",
        "len(Smiles_list)"
      ],
      "metadata": {
        "colab": {
          "base_uri": "https://localhost:8080/"
        },
        "id": "qNQTB8k05fRn",
        "outputId": "90541b3a-7aae-4c12-c25f-9896581cec7e"
      },
      "execution_count": null,
      "outputs": [
        {
          "output_type": "execute_result",
          "data": {
            "text/plain": [
              "1244"
            ]
          },
          "metadata": {},
          "execution_count": 11
        }
      ]
    },
    {
      "cell_type": "code",
      "source": [
        "#generating pubchem cid\n",
        "cid_list=[]\n",
        "for i in Smiles_list:\n",
        "    try:\n",
        "        Cid=get_compounds(i, 'smiles')\n",
        "        cid_list.append(Cid)\n",
        "    except:\n",
        "        print('INVALID SMILES',i)\n",
        "print()"
      ],
      "metadata": {
        "id": "sWUWdbU4J0bH",
        "colab": {
          "base_uri": "https://localhost:8080/"
        },
        "outputId": "5ce2f5f2-64cb-4564-c4c0-9d862e07077f"
      },
      "execution_count": null,
      "outputs": [
        {
          "output_type": "stream",
          "name": "stdout",
          "text": [
            "INVALID SMILES ..\n",
            "INVALID SMILES CCCCCCCCCCCCCCCCCC(CC)C1=CC=C(C=C1)S(=O)(=O)[O-].CCCCCCCCCCCCCCCCCC(CC)C1=CC=C(C=C1)S(=O)(=O)[O-].[Ca+2]  \n",
            "INVALID SMILES not found\n",
            "INVALID SMILES CCCCCCCCN=[B](Cl)(Cl)[Cl](C)C\n",
            "INVALID SMILES ..\n",
            "INVALID SMILES C(C(=O)[O-])C(CC(=O)[O-])(C(=O)[O-])O.[Co+2]  \n",
            "INVALID SMILES O=[Cr](=O)(O[Si](c1ccccc1)(c2ccccc2)c3ccccc3)O[Si](c4ccccc4)(c5ccccc5)c6ccccc6\n",
            "INVALID SMILES C/C(=C/C(=O)C)/O.C/C(=C/C(=O)C)/O.[Pd]  \n",
            "INVALID SMILES ..\n",
            "INVALID SMILES [C] \n",
            "INVALID SMILES  *\n",
            "INVALID SMILES ..\n",
            "INVALID SMILES ..\n",
            "INVALID SMILES [BiH6+3].OC(CC([O-])=O)(CC([O-])=O)C([O-])=O\n",
            "INVALID SMILES [OH-].[OH-].[OH-].[OH-].[OH-].[OH-].[OH-].[OH-].[OH-].[O--].[BiH6+3].[BiH6+3].[BiH6+3].[BiH6+3].[BiH6+3].[O-][N+]([O-])=O.[O-][N+]([O-])=O.[O-][N+]([O-])=O.[O-][N+]([O-])=O\n",
            "INVALID SMILES *\n",
            "INVALID SMILES [Li+].CC(C)CCCCCCCCCCCCCCC(=O)[O-]  \n",
            "INVALID SMILES F[Zn-](F)F.[K+]  \n",
            "INVALID SMILES [BiH6+3].CCCCC(CC)C([O-])=O.CCCCC(CC)C([O-])=O.CCCCC(CC)C([O-])=O\n",
            "INVALID SMILES [BiH6+3].[BiH6+3].[S-]S[S-].[S-]S[S-].[S-]S[S-]\n",
            "INVALID SMILES CCCCCCCCCCCCCCCCCC(=O)[O-].CCCCCCCCCCCCCCCC(=O)[O-].[Ca+2] \n",
            "INVALID SMILES ..\n",
            "INVALID SMILES ..\n",
            "INVALID SMILES  [O-2].[O-2].[O-2].[O-2].[O-2].[O-2].[O-2].[O-2].[O-2].[O-2].[F-].[F-].[Mg+2].[Mg+2].[Mg+2].[Al+3].[Si+4].[Si+4].[Si+4].[K+]  \n",
            "INVALID SMILES [SbH8+5].[SbH8+5].[O-]OOO[O-].[O-]OOO[O-].[O-]OOO[O-].[O-]OOO[O-].[O-]OOO[O-]\n",
            "INVALID SMILES ..\n",
            "INVALID SMILES COCCCNS(=O)(=O)C1=CC(=C(C=C1)O)N=NC2=C(C=CC3=CC=CC=C32)O.COCCCNS(=O)(=O)C1=CC(=C(C=C1)O)N=NC2=C(C=CC3=CC=CC=C32)O.[Na+].[Co]  \n",
            "INVALID SMILES CC1=NN(C(=C1N=NC2=C(C=CC(=C2)S(=O)(=O)NC)[O-])[O-])C3=CC(=CC=C3)Cl.CC1=NN(C(=C1N=NC2=C(C=CC(=C2)S(=O)(=O)NC)[O-])[O-])C3=CC(=CC=C3)Cl.[Na+].[Co+3]  \n",
            "INVALID SMILES C1=CC=C2C=C(C(=CC2=C1)C(=O)NC3=CC4=C(C=C3)NC(=O)N4)O.[Na]  \n",
            "INVALID SMILES C1=CC=C(C=C1)NC2=CC3=C(C=C2)N=C4C=CC(=CC4=[N+]3C5=CC=CC=C5)NC6=CC7=C(C=C6)N=C8C=CC(=CC8=[N+]7C9=CC=CC=C9)NC1=CC2=[N+](C3=C(C=CC(=C3)NC3=CC=C(C=C3)N)N=C2C=C1)C1=CC=CC=C1.O[Cr](=O)(=O)[O-].O[Cr](=O)(=O)[O-].O[Cr](=O)(=O)[O-]  \n",
            "INVALID SMILES C=O.C1=CC(=CC(=C1)N)N.[Na+].[Na+].S.[SH-]  \n",
            "INVALID SMILES  [O-][Si]12O[Al](O[Al](O1)O[Si]([O-])([O-])O[Al]3O[Al]4O[Si](=O)O[Si](O4)(O3)[O-])O[Si](=O)O2.[Mg+2].[Mg+2] \n",
            "INVALID SMILES C1=CC=C(C(=C1)C=N/C(=C(/C#N)\\N=CC2=CC=CC=C2[O-])/C#N)[O-].[Ni+2] \n",
            "INVALID SMILES [H+].CCCCC(CC)CN.CC1=NN(C(=C1N=NC2=CC=CC=C2C(=O)[O-])[O-])C3=CC=CC=C3.CC1=NN(C(=C1N=NC2=CC=CC=C2C(=O)[O-])[O-])C3=CC=CC=C3.[Cr+3] \n",
            "INVALID SMILES [O-][Si]12O[Si]3(O[Si](O1)(O[Si](O2)(O3)[O-])[O-])[O-].[O-][Si]12O[Si]3(O[Si](O1)(O[Si](O2)(O3)[O-])[O-])[O-].[O-][Si]12O[Si]3(O[Si](O1)(O[Si](O2)(O3)[O-])[O-])[O-].[O-][Si]12O[Si]3(O[Si](O1)(O[Si](O2)(O3)[O-])[O-])[O-].[O-][Si]12O[Si]3(O[Si](O1)(O[Si](O2)(O3)[O-])[O-])[O-].[O-][Si]12O[Si]3(O[Si](O1)(O[Si](O2)(O3)[O-])[O-])[O-].O=[Si]=O.O=[Si]=O.O=[Si]=O.[F-].[F-].[F-].[F-].[F-].[F-].[F-].[F-].[F-].[F-].[F-].[F-].[F-].[F-].[F-].[F-].[F-].[F-].[Na+].[Na+].[Na+].[Na+].[Na+].[Na+].[Na+].[Na+].[Na+].[Na+].[Mg+2].[Mg+2].[Mg+2].[Mg+2].[Mg+2].[Mg+2].[Mg+2].[Mg+2].[Mg+2].[Mg+2].[Mg+2].[Mg+2].[Mg+2].[Mg+2].[Mg+2].[Mg+2]  \n",
            "INVALID SMILES CC(CC(=O)[O-])CC(C)(C)C.CC(CC(=O)[O-])CC(C)(C)C.[Ba+2]  \n",
            "INVALID SMILES CCOC1=CC=CC=C1C(=N)N.Cl  \n",
            "INVALID SMILES C1=CC=C2C(=C1)C=CC(=C2N=NC3=CC=CC=C3C(=O)O)[O-].C1=CC=C2C(=C1)C=CC(=C2N=NC3=CC=CC=C3C(=O)O)[O-].[Ba+2]  \n",
            "INVALID SMILES Not Available\n",
            "INVALID SMILES CCCC[P+](CCCC)(CCCC)CCCC.F.[F-]  \n",
            "INVALID SMILES C(CCSCCC(C(C(C(C(C(F)(F)F)(F)F)(F)F)(F)F)(F)F)(F)F)CS  \n",
            "INVALID SMILES C1(=[NH+]C(=NC(=N1)N)N)N.C1(=[NH+]C(=NC(=N1)N)N)N.OP(=O)([O-])OP(=O)(O)[O-].[Zn]  \n",
            "INVALID SMILES CCN1C=C[N+](=C1)C.C(F)(F)(F)S(=O)(=O)[O-]  \n",
            "INVALID SMILES COC1=C(C=C2C(=C1)NC(=O)C(=O)N2)[N+](=O)[O-] \n",
            "INVALID SMILES CC(C)(C)OC(=O)C[P+](C1=CC=CC=C1)(C2=CC=CC=C2)C3=CC=CC=C3.[Cl-]  \n",
            "INVALID SMILES [NH4+].O=[Re-](=O)(=O)=O\n",
            "INVALID SMILES [CaH2].O=[V](=O)(=O)(=O)(=O)=O.O=[V](=O)(=O)(=O)(=O)=O\n",
            "INVALID SMILES [H+].CCCCC(CC)COCCCN.C1=CC=C2C(=C1)C=CC(=C2N=NC3=C(C=CC(=C3)[N+](=O)[O-])[O-])[O-].C1=CC=C2C(=C1)C=CC(=O)C2=NN=C3C=CC(=CC3=O)N([O-])[O-].[Cr+3] \n",
            "INVALID SMILES CC1=C(C=CC(=C1)S(=O)(=O)O)N=NC2=C(C=CC(=C2O)N=NC3=CC=CC=C3C(=O)O)O.CC1=C(C=CC(=C1)S(=O)(=O)O)N=NC2=C(C=CC(=C2O)N=NC3=CC=CC=C3C(=O)O)O.[Na+].[Na+].[Na+].[Cr]  \n",
            "INVALID SMILES [Sn+4].[O-][O-].[O-][O-]\n",
            "INVALID SMILES C1=CC(=C[N+](=C1)[C@H]2[C@@H]([C@@H]([C@H](O2)COP(=O)([O-])OP(=O)(O)OC[C@@H]3[C@H]([C@H]([C@@H](O3)N4C=NC5=C(N=CN=C54)N)OP(=O)([O-])[O-])O)O)O)C(=O)N.[Na+].[Na+]  \n",
            "INVALID SMILES [C-]#N.[C-]#N.[C-]#N.[C-]#N.[C-]#N.[C-]#N.[C-]#N.[C-]#N.[C-]#N.[C-]#N.[C-]#N.[C-]#N.[C-]#N.[C-]#N.[C-]#N.[C-]#N.[C-]#N.[C-]#N.[Fe+2].[Fe+2].[Fe+2].[Fe+3].[Fe+3].[Fe+3].[Fe+3]  \n",
            "INVALID SMILES C(=O)(C(C(F)(F)F)(OC(C(C(F)(F)F)(F)F)(F)F)F)[O-].[NH4+]  \n",
            "\n"
          ]
        }
      ]
    },
    {
      "cell_type": "code",
      "source": [
        "cid_list=[]"
      ],
      "metadata": {
        "id": "Uss1zfHJcRdu"
      },
      "execution_count": null,
      "outputs": []
    },
    {
      "cell_type": "code",
      "source": [
        "\n",
        "#A function that converts SMILES to pubchem CID\n",
        "def smile_to_cid(i):\n",
        "    try:\n",
        "        Cid=get_compounds(i, 'smiles')\n",
        "        return Cid\n",
        "    except:\n",
        "        return 'Not Avaliable'\n",
        "for i in Smiles_list:\n",
        "    cid=smile_to_cid(i)\n",
        "    cid_list.append(cid)"
      ],
      "metadata": {
        "id": "iQ7j2VLcbAE7"
      },
      "execution_count": null,
      "outputs": []
    },
    {
      "cell_type": "code",
      "source": [
        "\n",
        "#Merging the Cid dataframe into the main dataframe\n",
        "K=cid_list\n",
        "C= pd.DataFrame(K)\n",
        "J=C[0]\n",
        "df1['CID']=J"
      ],
      "metadata": {
        "id": "Z6N0k03aeqzM"
      },
      "execution_count": null,
      "outputs": []
    },
    {
      "cell_type": "code",
      "source": [
        "df1.head()"
      ],
      "metadata": {
        "colab": {
          "base_uri": "https://localhost:8080/",
          "height": 438
        },
        "id": "8mnAF7g9oPDb",
        "outputId": "c9667f57-461b-4d88-dada-3e514bdaee7f"
      },
      "execution_count": null,
      "outputs": [
        {
          "output_type": "execute_result",
          "data": {
            "text/plain": [
              "   Unnamed: 0  Unnamed: 0.1  Unnamed: 0.1.1  \\\n",
              "0         0.0           0.0             0.0   \n",
              "1         1.0           1.0             1.0   \n",
              "2         4.0           4.0             4.0   \n",
              "3         5.0           5.0             5.0   \n",
              "4         6.0           6.0             6.0   \n",
              "\n",
              "                                     Substance Name   Name type     Number  \\\n",
              "0  1,2-bis(3-methylbutyl) benzene-1,2-dicarboxylate  IUPAC Name   605-50-5   \n",
              "1            2-methyl-2,3-dihydro-1,2-thiazol-3-one  IUPAC Name  2682-20-4   \n",
              "2                                 tetrachloroethene  IUPAC Name   127-18-4   \n",
              "3                             1,1,2-trichloroethene  IUPAC Name    79-01-6   \n",
              "4                                tetrachloromethane  IUPAC Name    56-23-5   \n",
              "\n",
              "  Number type  Member of Category  \\\n",
              "0  CAS Number               False   \n",
              "1  CAS Number               False   \n",
              "2  CAS Number               False   \n",
              "3  CAS Number               False   \n",
              "4  CAS Number               False   \n",
              "\n",
              "                                      Substance Link Participant  \\\n",
              "0  https://echa.europa.eu/registration-dossier/-/...  ECHA REACH   \n",
              "1  https://echa.europa.eu/registration-dossier/-/...  ECHA REACH   \n",
              "2  https://echa.europa.eu/registration-dossier/-/...  ECHA REACH   \n",
              "3  https://echa.europa.eu/registration-dossier/-/...  ECHA REACH   \n",
              "4  https://echa.europa.eu/registration-dossier/-/...  ECHA REACH   \n",
              "\n",
              "                                    Participant Link             Section  \\\n",
              "0  https://echa.europa.eu/information-on-chemical...  Skin sensitisation   \n",
              "1  https://echa.europa.eu/information-on-chemical...  Skin sensitisation   \n",
              "2  https://echa.europa.eu/information-on-chemical...  Skin sensitisation   \n",
              "3  https://echa.europa.eu/information-on-chemical...  Skin sensitisation   \n",
              "4  https://echa.europa.eu/information-on-chemical...  Skin sensitisation   \n",
              "\n",
              "                                       Endpoint Link Values  \\\n",
              "0  https://echa.europa.eu/registration-dossier/-/...    NaN   \n",
              "1  https://echa.europa.eu/registration-dossier/-/...    NaN   \n",
              "2  https://echa.europa.eu/registration-dossier/-/...    NaN   \n",
              "3  https://echa.europa.eu/registration-dossier/-/...    NaN   \n",
              "4  https://echa.europa.eu/registration-dossier/-/...    NaN   \n",
              "\n",
              "                          Smiles_name              CID  \n",
              "0  CC(C)CCOC(=O)c1ccccc1C(=O)OCCC(C)C  Compound(69059)  \n",
              "1                         CN1SC=CC1=O  Compound(39800)  \n",
              "2                     ClC(Cl)=C(Cl)Cl  Compound(31373)  \n",
              "3                         ClC=C(Cl)Cl   Compound(6575)  \n",
              "4                       ClC(Cl)(Cl)Cl   Compound(5943)  "
            ],
            "text/html": [
              "\n",
              "  <div id=\"df-4c5211bc-7f0a-43ad-8335-8b1cd0b3ad27\">\n",
              "    <div class=\"colab-df-container\">\n",
              "      <div>\n",
              "<style scoped>\n",
              "    .dataframe tbody tr th:only-of-type {\n",
              "        vertical-align: middle;\n",
              "    }\n",
              "\n",
              "    .dataframe tbody tr th {\n",
              "        vertical-align: top;\n",
              "    }\n",
              "\n",
              "    .dataframe thead th {\n",
              "        text-align: right;\n",
              "    }\n",
              "</style>\n",
              "<table border=\"1\" class=\"dataframe\">\n",
              "  <thead>\n",
              "    <tr style=\"text-align: right;\">\n",
              "      <th></th>\n",
              "      <th>Unnamed: 0</th>\n",
              "      <th>Unnamed: 0.1</th>\n",
              "      <th>Unnamed: 0.1.1</th>\n",
              "      <th>Substance Name</th>\n",
              "      <th>Name type</th>\n",
              "      <th>Number</th>\n",
              "      <th>Number type</th>\n",
              "      <th>Member of Category</th>\n",
              "      <th>Substance Link</th>\n",
              "      <th>Participant</th>\n",
              "      <th>Participant Link</th>\n",
              "      <th>Section</th>\n",
              "      <th>Endpoint Link</th>\n",
              "      <th>Values</th>\n",
              "      <th>Smiles_name</th>\n",
              "      <th>CID</th>\n",
              "    </tr>\n",
              "  </thead>\n",
              "  <tbody>\n",
              "    <tr>\n",
              "      <th>0</th>\n",
              "      <td>0.0</td>\n",
              "      <td>0.0</td>\n",
              "      <td>0.0</td>\n",
              "      <td>1,2-bis(3-methylbutyl) benzene-1,2-dicarboxylate</td>\n",
              "      <td>IUPAC Name</td>\n",
              "      <td>605-50-5</td>\n",
              "      <td>CAS Number</td>\n",
              "      <td>False</td>\n",
              "      <td>https://echa.europa.eu/registration-dossier/-/...</td>\n",
              "      <td>ECHA REACH</td>\n",
              "      <td>https://echa.europa.eu/information-on-chemical...</td>\n",
              "      <td>Skin sensitisation</td>\n",
              "      <td>https://echa.europa.eu/registration-dossier/-/...</td>\n",
              "      <td>NaN</td>\n",
              "      <td>CC(C)CCOC(=O)c1ccccc1C(=O)OCCC(C)C</td>\n",
              "      <td>Compound(69059)</td>\n",
              "    </tr>\n",
              "    <tr>\n",
              "      <th>1</th>\n",
              "      <td>1.0</td>\n",
              "      <td>1.0</td>\n",
              "      <td>1.0</td>\n",
              "      <td>2-methyl-2,3-dihydro-1,2-thiazol-3-one</td>\n",
              "      <td>IUPAC Name</td>\n",
              "      <td>2682-20-4</td>\n",
              "      <td>CAS Number</td>\n",
              "      <td>False</td>\n",
              "      <td>https://echa.europa.eu/registration-dossier/-/...</td>\n",
              "      <td>ECHA REACH</td>\n",
              "      <td>https://echa.europa.eu/information-on-chemical...</td>\n",
              "      <td>Skin sensitisation</td>\n",
              "      <td>https://echa.europa.eu/registration-dossier/-/...</td>\n",
              "      <td>NaN</td>\n",
              "      <td>CN1SC=CC1=O</td>\n",
              "      <td>Compound(39800)</td>\n",
              "    </tr>\n",
              "    <tr>\n",
              "      <th>2</th>\n",
              "      <td>4.0</td>\n",
              "      <td>4.0</td>\n",
              "      <td>4.0</td>\n",
              "      <td>tetrachloroethene</td>\n",
              "      <td>IUPAC Name</td>\n",
              "      <td>127-18-4</td>\n",
              "      <td>CAS Number</td>\n",
              "      <td>False</td>\n",
              "      <td>https://echa.europa.eu/registration-dossier/-/...</td>\n",
              "      <td>ECHA REACH</td>\n",
              "      <td>https://echa.europa.eu/information-on-chemical...</td>\n",
              "      <td>Skin sensitisation</td>\n",
              "      <td>https://echa.europa.eu/registration-dossier/-/...</td>\n",
              "      <td>NaN</td>\n",
              "      <td>ClC(Cl)=C(Cl)Cl</td>\n",
              "      <td>Compound(31373)</td>\n",
              "    </tr>\n",
              "    <tr>\n",
              "      <th>3</th>\n",
              "      <td>5.0</td>\n",
              "      <td>5.0</td>\n",
              "      <td>5.0</td>\n",
              "      <td>1,1,2-trichloroethene</td>\n",
              "      <td>IUPAC Name</td>\n",
              "      <td>79-01-6</td>\n",
              "      <td>CAS Number</td>\n",
              "      <td>False</td>\n",
              "      <td>https://echa.europa.eu/registration-dossier/-/...</td>\n",
              "      <td>ECHA REACH</td>\n",
              "      <td>https://echa.europa.eu/information-on-chemical...</td>\n",
              "      <td>Skin sensitisation</td>\n",
              "      <td>https://echa.europa.eu/registration-dossier/-/...</td>\n",
              "      <td>NaN</td>\n",
              "      <td>ClC=C(Cl)Cl</td>\n",
              "      <td>Compound(6575)</td>\n",
              "    </tr>\n",
              "    <tr>\n",
              "      <th>4</th>\n",
              "      <td>6.0</td>\n",
              "      <td>6.0</td>\n",
              "      <td>6.0</td>\n",
              "      <td>tetrachloromethane</td>\n",
              "      <td>IUPAC Name</td>\n",
              "      <td>56-23-5</td>\n",
              "      <td>CAS Number</td>\n",
              "      <td>False</td>\n",
              "      <td>https://echa.europa.eu/registration-dossier/-/...</td>\n",
              "      <td>ECHA REACH</td>\n",
              "      <td>https://echa.europa.eu/information-on-chemical...</td>\n",
              "      <td>Skin sensitisation</td>\n",
              "      <td>https://echa.europa.eu/registration-dossier/-/...</td>\n",
              "      <td>NaN</td>\n",
              "      <td>ClC(Cl)(Cl)Cl</td>\n",
              "      <td>Compound(5943)</td>\n",
              "    </tr>\n",
              "  </tbody>\n",
              "</table>\n",
              "</div>\n",
              "      <button class=\"colab-df-convert\" onclick=\"convertToInteractive('df-4c5211bc-7f0a-43ad-8335-8b1cd0b3ad27')\"\n",
              "              title=\"Convert this dataframe to an interactive table.\"\n",
              "              style=\"display:none;\">\n",
              "        \n",
              "  <svg xmlns=\"http://www.w3.org/2000/svg\" height=\"24px\"viewBox=\"0 0 24 24\"\n",
              "       width=\"24px\">\n",
              "    <path d=\"M0 0h24v24H0V0z\" fill=\"none\"/>\n",
              "    <path d=\"M18.56 5.44l.94 2.06.94-2.06 2.06-.94-2.06-.94-.94-2.06-.94 2.06-2.06.94zm-11 1L8.5 8.5l.94-2.06 2.06-.94-2.06-.94L8.5 2.5l-.94 2.06-2.06.94zm10 10l.94 2.06.94-2.06 2.06-.94-2.06-.94-.94-2.06-.94 2.06-2.06.94z\"/><path d=\"M17.41 7.96l-1.37-1.37c-.4-.4-.92-.59-1.43-.59-.52 0-1.04.2-1.43.59L10.3 9.45l-7.72 7.72c-.78.78-.78 2.05 0 2.83L4 21.41c.39.39.9.59 1.41.59.51 0 1.02-.2 1.41-.59l7.78-7.78 2.81-2.81c.8-.78.8-2.07 0-2.86zM5.41 20L4 18.59l7.72-7.72 1.47 1.35L5.41 20z\"/>\n",
              "  </svg>\n",
              "      </button>\n",
              "      \n",
              "  <style>\n",
              "    .colab-df-container {\n",
              "      display:flex;\n",
              "      flex-wrap:wrap;\n",
              "      gap: 12px;\n",
              "    }\n",
              "\n",
              "    .colab-df-convert {\n",
              "      background-color: #E8F0FE;\n",
              "      border: none;\n",
              "      border-radius: 50%;\n",
              "      cursor: pointer;\n",
              "      display: none;\n",
              "      fill: #1967D2;\n",
              "      height: 32px;\n",
              "      padding: 0 0 0 0;\n",
              "      width: 32px;\n",
              "    }\n",
              "\n",
              "    .colab-df-convert:hover {\n",
              "      background-color: #E2EBFA;\n",
              "      box-shadow: 0px 1px 2px rgba(60, 64, 67, 0.3), 0px 1px 3px 1px rgba(60, 64, 67, 0.15);\n",
              "      fill: #174EA6;\n",
              "    }\n",
              "\n",
              "    [theme=dark] .colab-df-convert {\n",
              "      background-color: #3B4455;\n",
              "      fill: #D2E3FC;\n",
              "    }\n",
              "\n",
              "    [theme=dark] .colab-df-convert:hover {\n",
              "      background-color: #434B5C;\n",
              "      box-shadow: 0px 1px 3px 1px rgba(0, 0, 0, 0.15);\n",
              "      filter: drop-shadow(0px 1px 2px rgba(0, 0, 0, 0.3));\n",
              "      fill: #FFFFFF;\n",
              "    }\n",
              "  </style>\n",
              "\n",
              "      <script>\n",
              "        const buttonEl =\n",
              "          document.querySelector('#df-4c5211bc-7f0a-43ad-8335-8b1cd0b3ad27 button.colab-df-convert');\n",
              "        buttonEl.style.display =\n",
              "          google.colab.kernel.accessAllowed ? 'block' : 'none';\n",
              "\n",
              "        async function convertToInteractive(key) {\n",
              "          const element = document.querySelector('#df-4c5211bc-7f0a-43ad-8335-8b1cd0b3ad27');\n",
              "          const dataTable =\n",
              "            await google.colab.kernel.invokeFunction('convertToInteractive',\n",
              "                                                     [key], {});\n",
              "          if (!dataTable) return;\n",
              "\n",
              "          const docLinkHtml = 'Like what you see? Visit the ' +\n",
              "            '<a target=\"_blank\" href=https://colab.research.google.com/notebooks/data_table.ipynb>data table notebook</a>'\n",
              "            + ' to learn more about interactive tables.';\n",
              "          element.innerHTML = '';\n",
              "          dataTable['output_type'] = 'display_data';\n",
              "          await google.colab.output.renderOutput(dataTable, element);\n",
              "          const docLink = document.createElement('div');\n",
              "          docLink.innerHTML = docLinkHtml;\n",
              "          element.appendChild(docLink);\n",
              "        }\n",
              "      </script>\n",
              "    </div>\n",
              "  </div>\n",
              "  "
            ]
          },
          "metadata": {},
          "execution_count": 17
        }
      ]
    },
    {
      "cell_type": "code",
      "source": [
        "len(cid_list)"
      ],
      "metadata": {
        "colab": {
          "base_uri": "https://localhost:8080/"
        },
        "id": "3IPIC3tRfg6d",
        "outputId": "2fa85752-294d-455f-977e-ba52292042d3"
      },
      "execution_count": null,
      "outputs": [
        {
          "output_type": "execute_result",
          "data": {
            "text/plain": [
              "1191"
            ]
          },
          "metadata": {},
          "execution_count": 14
        }
      ]
    },
    {
      "cell_type": "code",
      "source": [
        "df1.Smiles_name.duplicated().sum()"
      ],
      "metadata": {
        "colab": {
          "base_uri": "https://localhost:8080/"
        },
        "id": "SmnHHR035qd2",
        "outputId": "869ca34d-8696-4dee-9dd6-b0bdb88cfc66"
      },
      "execution_count": null,
      "outputs": [
        {
          "output_type": "execute_result",
          "data": {
            "text/plain": [
              "74"
            ]
          },
          "metadata": {},
          "execution_count": 10
        }
      ]
    },
    {
      "cell_type": "code",
      "source": [
        "(~df1.duplicated()).sum()"
      ],
      "metadata": {
        "colab": {
          "base_uri": "https://localhost:8080/"
        },
        "id": "cURBwagK9Kyh",
        "outputId": "3fb86a29-34ce-4765-a36e-b1b5a9be6015"
      },
      "execution_count": null,
      "outputs": [
        {
          "output_type": "execute_result",
          "data": {
            "text/plain": [
              "1244"
            ]
          },
          "metadata": {},
          "execution_count": 15
        }
      ]
    },
    {
      "cell_type": "code",
      "source": [
        "\n",
        "#droping duplicates\n",
        "df1.loc[:, ['Smiles_name']].drop_duplicates()"
      ],
      "metadata": {
        "colab": {
          "base_uri": "https://localhost:8080/",
          "height": 483
        },
        "id": "6Rr4Q57R9UcB",
        "outputId": "10a77e50-9298-43b8-b842-2aae9e5991e0"
      },
      "execution_count": null,
      "outputs": [
        {
          "output_type": "execute_result",
          "data": {
            "text/plain": [
              "                                            Smiles_name\n",
              "0                    CC(C)CCOC(=O)c1ccccc1C(=O)OCCC(C)C\n",
              "1                                           CN1SC=CC1=O\n",
              "2                                       ClC(Cl)=C(Cl)Cl\n",
              "3                                           ClC=C(Cl)Cl\n",
              "4                                         ClC(Cl)(Cl)Cl\n",
              "...                                                 ...\n",
              "1238       Cc1ccc2Nc3cc4C(=O)c5cc(C)ccc5Nc4cc3C(=O)c2c1\n",
              "1239                           CCCCN[S](=O)(=O)c1ccccc1\n",
              "1240      C(=C(/C(F)(F)F)\\F)(\\C(C(F)(F)F)(C(F)(F)F)F)/F\n",
              "1242             O.O.O.O.O.[Na+].[Na+].[O-][Si]([O-])=O\n",
              "1243  [Cu]1N2C3=NC4=NC(=Nc5n1c(N=C6N=C(N=C2c7ccccc37...\n",
              "\n",
              "[1170 rows x 1 columns]"
            ],
            "text/html": [
              "\n",
              "  <div id=\"df-f92bb209-f983-4c53-90d1-9ea99a13e128\">\n",
              "    <div class=\"colab-df-container\">\n",
              "      <div>\n",
              "<style scoped>\n",
              "    .dataframe tbody tr th:only-of-type {\n",
              "        vertical-align: middle;\n",
              "    }\n",
              "\n",
              "    .dataframe tbody tr th {\n",
              "        vertical-align: top;\n",
              "    }\n",
              "\n",
              "    .dataframe thead th {\n",
              "        text-align: right;\n",
              "    }\n",
              "</style>\n",
              "<table border=\"1\" class=\"dataframe\">\n",
              "  <thead>\n",
              "    <tr style=\"text-align: right;\">\n",
              "      <th></th>\n",
              "      <th>Smiles_name</th>\n",
              "    </tr>\n",
              "  </thead>\n",
              "  <tbody>\n",
              "    <tr>\n",
              "      <th>0</th>\n",
              "      <td>CC(C)CCOC(=O)c1ccccc1C(=O)OCCC(C)C</td>\n",
              "    </tr>\n",
              "    <tr>\n",
              "      <th>1</th>\n",
              "      <td>CN1SC=CC1=O</td>\n",
              "    </tr>\n",
              "    <tr>\n",
              "      <th>2</th>\n",
              "      <td>ClC(Cl)=C(Cl)Cl</td>\n",
              "    </tr>\n",
              "    <tr>\n",
              "      <th>3</th>\n",
              "      <td>ClC=C(Cl)Cl</td>\n",
              "    </tr>\n",
              "    <tr>\n",
              "      <th>4</th>\n",
              "      <td>ClC(Cl)(Cl)Cl</td>\n",
              "    </tr>\n",
              "    <tr>\n",
              "      <th>...</th>\n",
              "      <td>...</td>\n",
              "    </tr>\n",
              "    <tr>\n",
              "      <th>1238</th>\n",
              "      <td>Cc1ccc2Nc3cc4C(=O)c5cc(C)ccc5Nc4cc3C(=O)c2c1</td>\n",
              "    </tr>\n",
              "    <tr>\n",
              "      <th>1239</th>\n",
              "      <td>CCCCN[S](=O)(=O)c1ccccc1</td>\n",
              "    </tr>\n",
              "    <tr>\n",
              "      <th>1240</th>\n",
              "      <td>C(=C(/C(F)(F)F)\\F)(\\C(C(F)(F)F)(C(F)(F)F)F)/F</td>\n",
              "    </tr>\n",
              "    <tr>\n",
              "      <th>1242</th>\n",
              "      <td>O.O.O.O.O.[Na+].[Na+].[O-][Si]([O-])=O</td>\n",
              "    </tr>\n",
              "    <tr>\n",
              "      <th>1243</th>\n",
              "      <td>[Cu]1N2C3=NC4=NC(=Nc5n1c(N=C6N=C(N=C2c7ccccc37...</td>\n",
              "    </tr>\n",
              "  </tbody>\n",
              "</table>\n",
              "<p>1170 rows × 1 columns</p>\n",
              "</div>\n",
              "      <button class=\"colab-df-convert\" onclick=\"convertToInteractive('df-f92bb209-f983-4c53-90d1-9ea99a13e128')\"\n",
              "              title=\"Convert this dataframe to an interactive table.\"\n",
              "              style=\"display:none;\">\n",
              "        \n",
              "  <svg xmlns=\"http://www.w3.org/2000/svg\" height=\"24px\"viewBox=\"0 0 24 24\"\n",
              "       width=\"24px\">\n",
              "    <path d=\"M0 0h24v24H0V0z\" fill=\"none\"/>\n",
              "    <path d=\"M18.56 5.44l.94 2.06.94-2.06 2.06-.94-2.06-.94-.94-2.06-.94 2.06-2.06.94zm-11 1L8.5 8.5l.94-2.06 2.06-.94-2.06-.94L8.5 2.5l-.94 2.06-2.06.94zm10 10l.94 2.06.94-2.06 2.06-.94-2.06-.94-.94-2.06-.94 2.06-2.06.94z\"/><path d=\"M17.41 7.96l-1.37-1.37c-.4-.4-.92-.59-1.43-.59-.52 0-1.04.2-1.43.59L10.3 9.45l-7.72 7.72c-.78.78-.78 2.05 0 2.83L4 21.41c.39.39.9.59 1.41.59.51 0 1.02-.2 1.41-.59l7.78-7.78 2.81-2.81c.8-.78.8-2.07 0-2.86zM5.41 20L4 18.59l7.72-7.72 1.47 1.35L5.41 20z\"/>\n",
              "  </svg>\n",
              "      </button>\n",
              "      \n",
              "  <style>\n",
              "    .colab-df-container {\n",
              "      display:flex;\n",
              "      flex-wrap:wrap;\n",
              "      gap: 12px;\n",
              "    }\n",
              "\n",
              "    .colab-df-convert {\n",
              "      background-color: #E8F0FE;\n",
              "      border: none;\n",
              "      border-radius: 50%;\n",
              "      cursor: pointer;\n",
              "      display: none;\n",
              "      fill: #1967D2;\n",
              "      height: 32px;\n",
              "      padding: 0 0 0 0;\n",
              "      width: 32px;\n",
              "    }\n",
              "\n",
              "    .colab-df-convert:hover {\n",
              "      background-color: #E2EBFA;\n",
              "      box-shadow: 0px 1px 2px rgba(60, 64, 67, 0.3), 0px 1px 3px 1px rgba(60, 64, 67, 0.15);\n",
              "      fill: #174EA6;\n",
              "    }\n",
              "\n",
              "    [theme=dark] .colab-df-convert {\n",
              "      background-color: #3B4455;\n",
              "      fill: #D2E3FC;\n",
              "    }\n",
              "\n",
              "    [theme=dark] .colab-df-convert:hover {\n",
              "      background-color: #434B5C;\n",
              "      box-shadow: 0px 1px 3px 1px rgba(0, 0, 0, 0.15);\n",
              "      filter: drop-shadow(0px 1px 2px rgba(0, 0, 0, 0.3));\n",
              "      fill: #FFFFFF;\n",
              "    }\n",
              "  </style>\n",
              "\n",
              "      <script>\n",
              "        const buttonEl =\n",
              "          document.querySelector('#df-f92bb209-f983-4c53-90d1-9ea99a13e128 button.colab-df-convert');\n",
              "        buttonEl.style.display =\n",
              "          google.colab.kernel.accessAllowed ? 'block' : 'none';\n",
              "\n",
              "        async function convertToInteractive(key) {\n",
              "          const element = document.querySelector('#df-f92bb209-f983-4c53-90d1-9ea99a13e128');\n",
              "          const dataTable =\n",
              "            await google.colab.kernel.invokeFunction('convertToInteractive',\n",
              "                                                     [key], {});\n",
              "          if (!dataTable) return;\n",
              "\n",
              "          const docLinkHtml = 'Like what you see? Visit the ' +\n",
              "            '<a target=\"_blank\" href=https://colab.research.google.com/notebooks/data_table.ipynb>data table notebook</a>'\n",
              "            + ' to learn more about interactive tables.';\n",
              "          element.innerHTML = '';\n",
              "          dataTable['output_type'] = 'display_data';\n",
              "          await google.colab.output.renderOutput(dataTable, element);\n",
              "          const docLink = document.createElement('div');\n",
              "          docLink.innerHTML = docLinkHtml;\n",
              "          element.appendChild(docLink);\n",
              "        }\n",
              "      </script>\n",
              "    </div>\n",
              "  </div>\n",
              "  "
            ]
          },
          "metadata": {},
          "execution_count": 11
        }
      ]
    },
    {
      "cell_type": "code",
      "source": [
        "len(df1)"
      ],
      "metadata": {
        "colab": {
          "base_uri": "https://localhost:8080/"
        },
        "id": "5znTdgG79nqX",
        "outputId": "b98aa2ee-6b69-4f5c-d18c-8024937439b8"
      },
      "execution_count": null,
      "outputs": [
        {
          "output_type": "execute_result",
          "data": {
            "text/plain": [
              "1244"
            ]
          },
          "metadata": {},
          "execution_count": 12
        }
      ]
    },
    {
      "cell_type": "code",
      "source": [
        "\n",
        "#Validation all smiles string to get invalid smiles\n",
        "df_smiles =Smiles_list\n",
        "c_smiles = []\n",
        "for ds in df_smiles:\n",
        "    try:\n",
        "        cs = Chem.CanonSmiles(ds)\n",
        "        c_smiles.append(cs)\n",
        "    except:\n",
        "        print('Invalid SMILES:', ds)\n",
        "print()"
      ],
      "metadata": {
        "colab": {
          "base_uri": "https://localhost:8080/"
        },
        "id": "i7t_kuKV594U",
        "outputId": "e1e366e0-8f83-4b9b-b6d8-ed3755df8f66"
      },
      "execution_count": null,
      "outputs": [
        {
          "output_type": "stream",
          "name": "stdout",
          "text": [
            "Invalid SMILES: no record\n",
            "Invalid SMILES: ..\n",
            "Invalid SMILES: not found\n",
            "Invalid SMILES: CCCCCCCCN=[B](Cl)(Cl)[Cl](C)C\n",
            "Invalid SMILES: [NH4+].[NH4+].[Cl]|[Pd--](|[Cl])(|[Cl])(|[Cl])(|[Cl])|[Cl]\n",
            "Invalid SMILES: no record\n",
            "Invalid SMILES: [Cl]|[Pd--](|[Cl])(|[Cl])(|[Cl])(|[Cl])|[Cl].[K+].[K+]\n",
            "Invalid SMILES: ..\n",
            "Invalid SMILES: no record\n",
            "Invalid SMILES: no record\n",
            "Invalid SMILES: no record\n",
            "Invalid SMILES: no record\n",
            "Invalid SMILES: no record\n",
            "Invalid SMILES: no record\n",
            "Invalid SMILES: no record\n",
            "Invalid SMILES: no record\n",
            "Invalid SMILES: no record\n",
            "Invalid SMILES: no record\n",
            "Invalid SMILES: no record\n",
            "Invalid SMILES: no record\n",
            "Invalid SMILES: no record\n",
            "Invalid SMILES: no record\n",
            "Invalid SMILES: no record\n",
            "Invalid SMILES: no record\n",
            "Invalid SMILES: no record\n",
            "Invalid SMILES: ..\n",
            "Invalid SMILES: ..\n",
            "Invalid SMILES: ..\n",
            "Invalid SMILES: no record\n",
            "Invalid SMILES: ..\n",
            "Invalid SMILES: ..\n",
            "Invalid SMILES: ..\n",
            "Invalid SMILES: [Na+].[Na+].[Na+].[Na+].[Fe-4](|[C]#N)(|[C]#N)(|[C]#N)(|[C]#N)(|[C]#N)|[C]#N\n",
            "Invalid SMILES: no record\n",
            "Invalid SMILES: no record\n",
            "Invalid SMILES: no record\n",
            "Invalid SMILES: no record\n",
            "Invalid SMILES: no record\n",
            "Invalid SMILES: no record\n",
            "Invalid SMILES: no record\n",
            "Invalid SMILES: no record\n",
            "Invalid SMILES: no record\n",
            "Invalid SMILES: Not Available\n",
            "Invalid SMILES: no record\n",
            "Invalid SMILES: no record\n",
            "Invalid SMILES: no record\n",
            "Invalid SMILES: no record\n",
            "Invalid SMILES: no record\n",
            "Invalid SMILES: no record\n",
            "Invalid SMILES: no record\n",
            "Invalid SMILES: no record\n",
            "Invalid SMILES: no record\n",
            "Invalid SMILES: [Na+].[Na+].[Cu]|1|OC(=O)CN(CCN(CC(O|1)=O)CC([O-])=O)CC([O-])=O\n",
            "Invalid SMILES: no record\n",
            "\n"
          ]
        }
      ]
    },
    {
      "cell_type": "code",
      "source": [
        "\n",
        "#converting to mol\n",
        "Mol_list=[]\n",
        "for smiles in c_smiles:\n",
        "    Mol=Chem.MolFromSmiles(smiles)\n",
        "    Mol_list.append(Mol)\n",
        "len(Mol_list)"
      ],
      "metadata": {
        "colab": {
          "base_uri": "https://localhost:8080/"
        },
        "id": "nUB_PMRB6dvV",
        "outputId": "c8ff5393-1cdc-41a1-f963-2f37701de96a"
      },
      "execution_count": null,
      "outputs": [
        {
          "output_type": "execute_result",
          "data": {
            "text/plain": [
              "1190"
            ]
          },
          "metadata": {},
          "execution_count": 18
        }
      ]
    },
    {
      "cell_type": "code",
      "source": [
        "\n",
        "\n",
        "#generating Morgan fingerprint.\n",
        "fps = [AllChem.GetMorganFingerprintAsBitVect(m,2) for m in Mol_list]"
      ],
      "metadata": {
        "id": "sqNfYG0w6m5S"
      },
      "execution_count": null,
      "outputs": []
    },
    {
      "cell_type": "code",
      "source": [
        "\n",
        "#NEW AlGORITHM\n",
        "distmat = GetTanimotoDistMat(fps)\n",
        "simmat = GetTanimotoSimMat(fps)"
      ],
      "metadata": {
        "id": "o78lNsRE6pUp"
      },
      "execution_count": null,
      "outputs": []
    },
    {
      "cell_type": "code",
      "source": [
        "print( len(distmat))\n",
        "print( len(simmat))"
      ],
      "metadata": {
        "colab": {
          "base_uri": "https://localhost:8080/"
        },
        "id": "WsEfZIKu62Zv",
        "outputId": "4c0b2ee8-a435-4dbd-e47c-3e25735bd954"
      },
      "execution_count": null,
      "outputs": [
        {
          "output_type": "stream",
          "name": "stdout",
          "text": [
            "707455\n",
            "707455\n"
          ]
        }
      ]
    },
    {
      "cell_type": "code",
      "source": [
        "Tanimoto= pd.DataFrame(simmat)\n",
        "Tanimoto = Tanimoto.sort_values(0,ascending=False)\n",
        "print()"
      ],
      "metadata": {
        "colab": {
          "base_uri": "https://localhost:8080/"
        },
        "id": "WrbwJ5nk7Mg3",
        "outputId": "d90b689b-1f44-45a8-8f40-9d19133b6f6b"
      },
      "execution_count": null,
      "outputs": [
        {
          "output_type": "stream",
          "name": "stdout",
          "text": [
            "\n"
          ]
        }
      ]
    },
    {
      "cell_type": "code",
      "source": [
        "Tanimoto_dist= pd.DataFrame(distmat)\n",
        "Tanimoto_dist = Tanimoto_dist.sort_values(0,ascending=False)\n",
        "print()"
      ],
      "metadata": {
        "colab": {
          "base_uri": "https://localhost:8080/"
        },
        "id": "ie07-85X_BlC",
        "outputId": "08abd41a-d352-4954-a915-e5834e3ea95d"
      },
      "execution_count": null,
      "outputs": [
        {
          "output_type": "stream",
          "name": "stdout",
          "text": [
            "\n"
          ]
        }
      ]
    },
    {
      "cell_type": "code",
      "source": [
        "Tanimoto_dist.head()"
      ],
      "metadata": {
        "colab": {
          "base_uri": "https://localhost:8080/",
          "height": 204
        },
        "id": "Sd7Hgdm9_Oya",
        "outputId": "9c2bad45-662c-4d7a-d9ad-defa9a09a95a"
      },
      "execution_count": null,
      "outputs": [
        {
          "output_type": "execute_result",
          "data": {
            "text/plain": [
              "          0\n",
              "707454  1.0\n",
              "587713  1.0\n",
              "587714  1.0\n",
              "587715  1.0\n",
              "420627  1.0"
            ],
            "text/html": [
              "\n",
              "  <div id=\"df-18dd2b24-dd1c-423c-94fa-89f820c16224\">\n",
              "    <div class=\"colab-df-container\">\n",
              "      <div>\n",
              "<style scoped>\n",
              "    .dataframe tbody tr th:only-of-type {\n",
              "        vertical-align: middle;\n",
              "    }\n",
              "\n",
              "    .dataframe tbody tr th {\n",
              "        vertical-align: top;\n",
              "    }\n",
              "\n",
              "    .dataframe thead th {\n",
              "        text-align: right;\n",
              "    }\n",
              "</style>\n",
              "<table border=\"1\" class=\"dataframe\">\n",
              "  <thead>\n",
              "    <tr style=\"text-align: right;\">\n",
              "      <th></th>\n",
              "      <th>0</th>\n",
              "    </tr>\n",
              "  </thead>\n",
              "  <tbody>\n",
              "    <tr>\n",
              "      <th>707454</th>\n",
              "      <td>1.0</td>\n",
              "    </tr>\n",
              "    <tr>\n",
              "      <th>587713</th>\n",
              "      <td>1.0</td>\n",
              "    </tr>\n",
              "    <tr>\n",
              "      <th>587714</th>\n",
              "      <td>1.0</td>\n",
              "    </tr>\n",
              "    <tr>\n",
              "      <th>587715</th>\n",
              "      <td>1.0</td>\n",
              "    </tr>\n",
              "    <tr>\n",
              "      <th>420627</th>\n",
              "      <td>1.0</td>\n",
              "    </tr>\n",
              "  </tbody>\n",
              "</table>\n",
              "</div>\n",
              "      <button class=\"colab-df-convert\" onclick=\"convertToInteractive('df-18dd2b24-dd1c-423c-94fa-89f820c16224')\"\n",
              "              title=\"Convert this dataframe to an interactive table.\"\n",
              "              style=\"display:none;\">\n",
              "        \n",
              "  <svg xmlns=\"http://www.w3.org/2000/svg\" height=\"24px\"viewBox=\"0 0 24 24\"\n",
              "       width=\"24px\">\n",
              "    <path d=\"M0 0h24v24H0V0z\" fill=\"none\"/>\n",
              "    <path d=\"M18.56 5.44l.94 2.06.94-2.06 2.06-.94-2.06-.94-.94-2.06-.94 2.06-2.06.94zm-11 1L8.5 8.5l.94-2.06 2.06-.94-2.06-.94L8.5 2.5l-.94 2.06-2.06.94zm10 10l.94 2.06.94-2.06 2.06-.94-2.06-.94-.94-2.06-.94 2.06-2.06.94z\"/><path d=\"M17.41 7.96l-1.37-1.37c-.4-.4-.92-.59-1.43-.59-.52 0-1.04.2-1.43.59L10.3 9.45l-7.72 7.72c-.78.78-.78 2.05 0 2.83L4 21.41c.39.39.9.59 1.41.59.51 0 1.02-.2 1.41-.59l7.78-7.78 2.81-2.81c.8-.78.8-2.07 0-2.86zM5.41 20L4 18.59l7.72-7.72 1.47 1.35L5.41 20z\"/>\n",
              "  </svg>\n",
              "      </button>\n",
              "      \n",
              "  <style>\n",
              "    .colab-df-container {\n",
              "      display:flex;\n",
              "      flex-wrap:wrap;\n",
              "      gap: 12px;\n",
              "    }\n",
              "\n",
              "    .colab-df-convert {\n",
              "      background-color: #E8F0FE;\n",
              "      border: none;\n",
              "      border-radius: 50%;\n",
              "      cursor: pointer;\n",
              "      display: none;\n",
              "      fill: #1967D2;\n",
              "      height: 32px;\n",
              "      padding: 0 0 0 0;\n",
              "      width: 32px;\n",
              "    }\n",
              "\n",
              "    .colab-df-convert:hover {\n",
              "      background-color: #E2EBFA;\n",
              "      box-shadow: 0px 1px 2px rgba(60, 64, 67, 0.3), 0px 1px 3px 1px rgba(60, 64, 67, 0.15);\n",
              "      fill: #174EA6;\n",
              "    }\n",
              "\n",
              "    [theme=dark] .colab-df-convert {\n",
              "      background-color: #3B4455;\n",
              "      fill: #D2E3FC;\n",
              "    }\n",
              "\n",
              "    [theme=dark] .colab-df-convert:hover {\n",
              "      background-color: #434B5C;\n",
              "      box-shadow: 0px 1px 3px 1px rgba(0, 0, 0, 0.15);\n",
              "      filter: drop-shadow(0px 1px 2px rgba(0, 0, 0, 0.3));\n",
              "      fill: #FFFFFF;\n",
              "    }\n",
              "  </style>\n",
              "\n",
              "      <script>\n",
              "        const buttonEl =\n",
              "          document.querySelector('#df-18dd2b24-dd1c-423c-94fa-89f820c16224 button.colab-df-convert');\n",
              "        buttonEl.style.display =\n",
              "          google.colab.kernel.accessAllowed ? 'block' : 'none';\n",
              "\n",
              "        async function convertToInteractive(key) {\n",
              "          const element = document.querySelector('#df-18dd2b24-dd1c-423c-94fa-89f820c16224');\n",
              "          const dataTable =\n",
              "            await google.colab.kernel.invokeFunction('convertToInteractive',\n",
              "                                                     [key], {});\n",
              "          if (!dataTable) return;\n",
              "\n",
              "          const docLinkHtml = 'Like what you see? Visit the ' +\n",
              "            '<a target=\"_blank\" href=https://colab.research.google.com/notebooks/data_table.ipynb>data table notebook</a>'\n",
              "            + ' to learn more about interactive tables.';\n",
              "          element.innerHTML = '';\n",
              "          dataTable['output_type'] = 'display_data';\n",
              "          await google.colab.output.renderOutput(dataTable, element);\n",
              "          const docLink = document.createElement('div');\n",
              "          docLink.innerHTML = docLinkHtml;\n",
              "          element.appendChild(docLink);\n",
              "        }\n",
              "      </script>\n",
              "    </div>\n",
              "  </div>\n",
              "  "
            ]
          },
          "metadata": {},
          "execution_count": 24
        }
      ]
    },
    {
      "cell_type": "code",
      "source": [
        "Tanimoto.head()"
      ],
      "metadata": {
        "colab": {
          "base_uri": "https://localhost:8080/",
          "height": 204
        },
        "id": "zSwdhJ638IJG",
        "outputId": "fbb82a68-4178-46e8-daba-ab5f3a6902fb"
      },
      "execution_count": null,
      "outputs": [
        {
          "output_type": "execute_result",
          "data": {
            "text/plain": [
              "          0\n",
              "678390  1.0\n",
              "362272  1.0\n",
              "577215  1.0\n",
              "572433  1.0\n",
              "601845  1.0"
            ],
            "text/html": [
              "\n",
              "  <div id=\"df-03ac62d1-f2c4-4f6a-b8c6-57cb28bccfe8\">\n",
              "    <div class=\"colab-df-container\">\n",
              "      <div>\n",
              "<style scoped>\n",
              "    .dataframe tbody tr th:only-of-type {\n",
              "        vertical-align: middle;\n",
              "    }\n",
              "\n",
              "    .dataframe tbody tr th {\n",
              "        vertical-align: top;\n",
              "    }\n",
              "\n",
              "    .dataframe thead th {\n",
              "        text-align: right;\n",
              "    }\n",
              "</style>\n",
              "<table border=\"1\" class=\"dataframe\">\n",
              "  <thead>\n",
              "    <tr style=\"text-align: right;\">\n",
              "      <th></th>\n",
              "      <th>0</th>\n",
              "    </tr>\n",
              "  </thead>\n",
              "  <tbody>\n",
              "    <tr>\n",
              "      <th>678390</th>\n",
              "      <td>1.0</td>\n",
              "    </tr>\n",
              "    <tr>\n",
              "      <th>362272</th>\n",
              "      <td>1.0</td>\n",
              "    </tr>\n",
              "    <tr>\n",
              "      <th>577215</th>\n",
              "      <td>1.0</td>\n",
              "    </tr>\n",
              "    <tr>\n",
              "      <th>572433</th>\n",
              "      <td>1.0</td>\n",
              "    </tr>\n",
              "    <tr>\n",
              "      <th>601845</th>\n",
              "      <td>1.0</td>\n",
              "    </tr>\n",
              "  </tbody>\n",
              "</table>\n",
              "</div>\n",
              "      <button class=\"colab-df-convert\" onclick=\"convertToInteractive('df-03ac62d1-f2c4-4f6a-b8c6-57cb28bccfe8')\"\n",
              "              title=\"Convert this dataframe to an interactive table.\"\n",
              "              style=\"display:none;\">\n",
              "        \n",
              "  <svg xmlns=\"http://www.w3.org/2000/svg\" height=\"24px\"viewBox=\"0 0 24 24\"\n",
              "       width=\"24px\">\n",
              "    <path d=\"M0 0h24v24H0V0z\" fill=\"none\"/>\n",
              "    <path d=\"M18.56 5.44l.94 2.06.94-2.06 2.06-.94-2.06-.94-.94-2.06-.94 2.06-2.06.94zm-11 1L8.5 8.5l.94-2.06 2.06-.94-2.06-.94L8.5 2.5l-.94 2.06-2.06.94zm10 10l.94 2.06.94-2.06 2.06-.94-2.06-.94-.94-2.06-.94 2.06-2.06.94z\"/><path d=\"M17.41 7.96l-1.37-1.37c-.4-.4-.92-.59-1.43-.59-.52 0-1.04.2-1.43.59L10.3 9.45l-7.72 7.72c-.78.78-.78 2.05 0 2.83L4 21.41c.39.39.9.59 1.41.59.51 0 1.02-.2 1.41-.59l7.78-7.78 2.81-2.81c.8-.78.8-2.07 0-2.86zM5.41 20L4 18.59l7.72-7.72 1.47 1.35L5.41 20z\"/>\n",
              "  </svg>\n",
              "      </button>\n",
              "      \n",
              "  <style>\n",
              "    .colab-df-container {\n",
              "      display:flex;\n",
              "      flex-wrap:wrap;\n",
              "      gap: 12px;\n",
              "    }\n",
              "\n",
              "    .colab-df-convert {\n",
              "      background-color: #E8F0FE;\n",
              "      border: none;\n",
              "      border-radius: 50%;\n",
              "      cursor: pointer;\n",
              "      display: none;\n",
              "      fill: #1967D2;\n",
              "      height: 32px;\n",
              "      padding: 0 0 0 0;\n",
              "      width: 32px;\n",
              "    }\n",
              "\n",
              "    .colab-df-convert:hover {\n",
              "      background-color: #E2EBFA;\n",
              "      box-shadow: 0px 1px 2px rgba(60, 64, 67, 0.3), 0px 1px 3px 1px rgba(60, 64, 67, 0.15);\n",
              "      fill: #174EA6;\n",
              "    }\n",
              "\n",
              "    [theme=dark] .colab-df-convert {\n",
              "      background-color: #3B4455;\n",
              "      fill: #D2E3FC;\n",
              "    }\n",
              "\n",
              "    [theme=dark] .colab-df-convert:hover {\n",
              "      background-color: #434B5C;\n",
              "      box-shadow: 0px 1px 3px 1px rgba(0, 0, 0, 0.15);\n",
              "      filter: drop-shadow(0px 1px 2px rgba(0, 0, 0, 0.3));\n",
              "      fill: #FFFFFF;\n",
              "    }\n",
              "  </style>\n",
              "\n",
              "      <script>\n",
              "        const buttonEl =\n",
              "          document.querySelector('#df-03ac62d1-f2c4-4f6a-b8c6-57cb28bccfe8 button.colab-df-convert');\n",
              "        buttonEl.style.display =\n",
              "          google.colab.kernel.accessAllowed ? 'block' : 'none';\n",
              "\n",
              "        async function convertToInteractive(key) {\n",
              "          const element = document.querySelector('#df-03ac62d1-f2c4-4f6a-b8c6-57cb28bccfe8');\n",
              "          const dataTable =\n",
              "            await google.colab.kernel.invokeFunction('convertToInteractive',\n",
              "                                                     [key], {});\n",
              "          if (!dataTable) return;\n",
              "\n",
              "          const docLinkHtml = 'Like what you see? Visit the ' +\n",
              "            '<a target=\"_blank\" href=https://colab.research.google.com/notebooks/data_table.ipynb>data table notebook</a>'\n",
              "            + ' to learn more about interactive tables.';\n",
              "          element.innerHTML = '';\n",
              "          dataTable['output_type'] = 'display_data';\n",
              "          await google.colab.output.renderOutput(dataTable, element);\n",
              "          const docLink = document.createElement('div');\n",
              "          docLink.innerHTML = docLinkHtml;\n",
              "          element.appendChild(docLink);\n",
              "        }\n",
              "      </script>\n",
              "    </div>\n",
              "  </div>\n",
              "  "
            ]
          },
          "metadata": {},
          "execution_count": 25
        }
      ]
    },
    {
      "cell_type": "code",
      "source": [
        "\n",
        "#visualizing similarity metrics\n",
        "Tanimoto[0].plot(kind='hist')\n",
        "plt.show()"
      ],
      "metadata": {
        "colab": {
          "base_uri": "https://localhost:8080/",
          "height": 182
        },
        "id": "PRyXAxDP74UB",
        "outputId": "d3d6c2b5-ce85-4feb-c8e5-dfb72e9a859a"
      },
      "execution_count": null,
      "outputs": [
        {
          "output_type": "display_data",
          "data": {
            "text/plain": [
              "<Figure size 432x288 with 1 Axes>"
            ],
            "image/png": "[encoded data removed]"
          },
          "metadata": {
            "needs_background": "light"
          }
        }
      ]
    },
    {
      "cell_type": "code",
      "source": [
        "df50=Tanimoto[Tanimoto[0]==0.5]\n",
        "len(df50)#number of pair 50%similar"
      ],
      "metadata": {
        "id": "gkmNyiCBPjOu",
        "colab": {
          "base_uri": "https://localhost:8080/"
        },
        "outputId": "c11509ea-8a14-44a8-fea0-14dd77f317fb"
      },
      "execution_count": null,
      "outputs": [
        {
          "output_type": "execute_result",
          "data": {
            "text/plain": [
              "104"
            ]
          },
          "metadata": {},
          "execution_count": 27
        }
      ]
    },
    {
      "cell_type": "code",
      "source": [
        "\n",
        "#visualizing distance metrics\n",
        "Tanimoto_dist[0].plot(kind='hist')\n",
        "plt.show()"
      ],
      "metadata": {
        "colab": {
          "base_uri": "https://localhost:8080/",
          "height": 182
        },
        "id": "QL3e1RX4_cog",
        "outputId": "4ad36557-e467-49e9-8249-5938689598fc"
      },
      "execution_count": null,
      "outputs": [
        {
          "output_type": "display_data",
          "data": {
            "text/plain": [
              "<Figure size 432x288 with 1 Axes>"
            ],
            "image/png": "[encoded data removed]"
          },
          "metadata": {
            "needs_background": "light"
          }
        }
      ]
    },
    {
      "cell_type": "code",
      "source": [
        "File_name='Tanimoto similarity for merged data(non_duplicates).xlsx'\n",
        "\n",
        "Tanimoto.to_excel(File_name)\n",
        "files.download(File_name)"
      ],
      "metadata": {
        "colab": {
          "base_uri": "https://localhost:8080/",
          "height": 632
        },
        "id": "Aqww4d9CBme7",
        "outputId": "b354a219-a001-4323-ff3c-2fb297d54daa"
      },
      "execution_count": null,
      "outputs": [
        {
          "output_type": "error",
          "ename": "KeyboardInterrupt",
          "evalue": "ignored",
          "traceback": [
            "\u001b[0;31m---------------------------------------------------------------------------\u001b[0m",
            "\u001b[0;31mKeyboardInterrupt\u001b[0m                         Traceback (most recent call last)",
            "\u001b[0;32m<ipython-input-27-60b1df389dc1>\u001b[0m in \u001b[0;36m<module>\u001b[0;34m()\u001b[0m\n\u001b[1;32m      1\u001b[0m \u001b[0mFile_name\u001b[0m\u001b[0;34m=\u001b[0m\u001b[0;34m'Tanimoto similarity for merged data(non_duplicates).xlsx'\u001b[0m\u001b[0;34m\u001b[0m\u001b[0;34m\u001b[0m\u001b[0m\n\u001b[1;32m      2\u001b[0m \u001b[0;34m\u001b[0m\u001b[0m\n\u001b[0;32m----> 3\u001b[0;31m \u001b[0mTanimoto\u001b[0m\u001b[0;34m.\u001b[0m\u001b[0mto_excel\u001b[0m\u001b[0;34m(\u001b[0m\u001b[0mFile_name\u001b[0m\u001b[0;34m)\u001b[0m\u001b[0;34m\u001b[0m\u001b[0;34m\u001b[0m\u001b[0m\n\u001b[0m\u001b[1;32m      4\u001b[0m \u001b[0mfiles\u001b[0m\u001b[0;34m.\u001b[0m\u001b[0mdownload\u001b[0m\u001b[0;34m(\u001b[0m\u001b[0mFile_name\u001b[0m\u001b[0;34m)\u001b[0m\u001b[0;34m\u001b[0m\u001b[0;34m\u001b[0m\u001b[0m\n",
            "\u001b[0;32m/usr/local/lib/python3.7/dist-packages/pandas/core/generic.py\u001b[0m in \u001b[0;36mto_excel\u001b[0;34m(self, excel_writer, sheet_name, na_rep, float_format, columns, header, index, index_label, startrow, startcol, engine, merge_cells, encoding, inf_rep, verbose, freeze_panes, storage_options)\u001b[0m\n\u001b[1;32m   2289\u001b[0m             \u001b[0mfreeze_panes\u001b[0m\u001b[0;34m=\u001b[0m\u001b[0mfreeze_panes\u001b[0m\u001b[0;34m,\u001b[0m\u001b[0;34m\u001b[0m\u001b[0;34m\u001b[0m\u001b[0m\n\u001b[1;32m   2290\u001b[0m             \u001b[0mengine\u001b[0m\u001b[0;34m=\u001b[0m\u001b[0mengine\u001b[0m\u001b[0;34m,\u001b[0m\u001b[0;34m\u001b[0m\u001b[0;34m\u001b[0m\u001b[0m\n\u001b[0;32m-> 2291\u001b[0;31m             \u001b[0mstorage_options\u001b[0m\u001b[0;34m=\u001b[0m\u001b[0mstorage_options\u001b[0m\u001b[0;34m,\u001b[0m\u001b[0;34m\u001b[0m\u001b[0;34m\u001b[0m\u001b[0m\n\u001b[0m\u001b[1;32m   2292\u001b[0m         )\n\u001b[1;32m   2293\u001b[0m \u001b[0;34m\u001b[0m\u001b[0m\n",
            "\u001b[0;32m/usr/local/lib/python3.7/dist-packages/pandas/io/formats/excel.py\u001b[0m in \u001b[0;36mwrite\u001b[0;34m(self, writer, sheet_name, startrow, startcol, freeze_panes, engine, storage_options)\u001b[0m\n\u001b[1;32m    843\u001b[0m                 \u001b[0mstartrow\u001b[0m\u001b[0;34m=\u001b[0m\u001b[0mstartrow\u001b[0m\u001b[0;34m,\u001b[0m\u001b[0;34m\u001b[0m\u001b[0;34m\u001b[0m\u001b[0m\n\u001b[1;32m    844\u001b[0m                 \u001b[0mstartcol\u001b[0m\u001b[0;34m=\u001b[0m\u001b[0mstartcol\u001b[0m\u001b[0;34m,\u001b[0m\u001b[0;34m\u001b[0m\u001b[0;34m\u001b[0m\u001b[0m\n\u001b[0;32m--> 845\u001b[0;31m                 \u001b[0mfreeze_panes\u001b[0m\u001b[0;34m=\u001b[0m\u001b[0mfreeze_panes\u001b[0m\u001b[0;34m,\u001b[0m\u001b[0;34m\u001b[0m\u001b[0;34m\u001b[0m\u001b[0m\n\u001b[0m\u001b[1;32m    846\u001b[0m             )\n\u001b[1;32m    847\u001b[0m         \u001b[0;32mfinally\u001b[0m\u001b[0;34m:\u001b[0m\u001b[0;34m\u001b[0m\u001b[0;34m\u001b[0m\u001b[0m\n",
            "\u001b[0;32m/usr/local/lib/python3.7/dist-packages/pandas/io/excel/_openpyxl.py\u001b[0m in \u001b[0;36mwrite_cells\u001b[0;34m(self, cells, sheet_name, startrow, startcol, freeze_panes)\u001b[0m\n\u001b[1;32m    473\u001b[0m             \u001b[0;32mif\u001b[0m \u001b[0mstyle_kwargs\u001b[0m\u001b[0;34m:\u001b[0m\u001b[0;34m\u001b[0m\u001b[0;34m\u001b[0m\u001b[0m\n\u001b[1;32m    474\u001b[0m                 \u001b[0;32mfor\u001b[0m \u001b[0mk\u001b[0m\u001b[0;34m,\u001b[0m \u001b[0mv\u001b[0m \u001b[0;32min\u001b[0m \u001b[0mstyle_kwargs\u001b[0m\u001b[0;34m.\u001b[0m\u001b[0mitems\u001b[0m\u001b[0;34m(\u001b[0m\u001b[0;34m)\u001b[0m\u001b[0;34m:\u001b[0m\u001b[0;34m\u001b[0m\u001b[0;34m\u001b[0m\u001b[0m\n\u001b[0;32m--> 475\u001b[0;31m                     \u001b[0msetattr\u001b[0m\u001b[0;34m(\u001b[0m\u001b[0mxcell\u001b[0m\u001b[0;34m,\u001b[0m \u001b[0mk\u001b[0m\u001b[0;34m,\u001b[0m \u001b[0mv\u001b[0m\u001b[0;34m)\u001b[0m\u001b[0;34m\u001b[0m\u001b[0;34m\u001b[0m\u001b[0m\n\u001b[0m\u001b[1;32m    476\u001b[0m \u001b[0;34m\u001b[0m\u001b[0m\n\u001b[1;32m    477\u001b[0m             \u001b[0;32mif\u001b[0m \u001b[0mcell\u001b[0m\u001b[0;34m.\u001b[0m\u001b[0mmergestart\u001b[0m \u001b[0;32mis\u001b[0m \u001b[0;32mnot\u001b[0m \u001b[0;32mNone\u001b[0m \u001b[0;32mand\u001b[0m \u001b[0mcell\u001b[0m\u001b[0;34m.\u001b[0m\u001b[0mmergeend\u001b[0m \u001b[0;32mis\u001b[0m \u001b[0;32mnot\u001b[0m \u001b[0;32mNone\u001b[0m\u001b[0;34m:\u001b[0m\u001b[0;34m\u001b[0m\u001b[0;34m\u001b[0m\u001b[0m\n",
            "\u001b[0;32m/usr/local/lib/python3.7/dist-packages/openpyxl/styles/styleable.py\u001b[0m in \u001b[0;36m__set__\u001b[0;34m(self, instance, value)\u001b[0m\n\u001b[1;32m     25\u001b[0m         \u001b[0;32mif\u001b[0m \u001b[0;32mnot\u001b[0m \u001b[0mgetattr\u001b[0m\u001b[0;34m(\u001b[0m\u001b[0minstance\u001b[0m\u001b[0;34m,\u001b[0m \u001b[0;34m\"_style\"\u001b[0m\u001b[0;34m)\u001b[0m\u001b[0;34m:\u001b[0m\u001b[0;34m\u001b[0m\u001b[0;34m\u001b[0m\u001b[0m\n\u001b[1;32m     26\u001b[0m             \u001b[0minstance\u001b[0m\u001b[0;34m.\u001b[0m\u001b[0m_style\u001b[0m \u001b[0;34m=\u001b[0m \u001b[0mStyleArray\u001b[0m\u001b[0;34m(\u001b[0m\u001b[0;34m)\u001b[0m\u001b[0;34m\u001b[0m\u001b[0;34m\u001b[0m\u001b[0m\n\u001b[0;32m---> 27\u001b[0;31m         \u001b[0msetattr\u001b[0m\u001b[0;34m(\u001b[0m\u001b[0minstance\u001b[0m\u001b[0;34m.\u001b[0m\u001b[0m_style\u001b[0m\u001b[0;34m,\u001b[0m \u001b[0mself\u001b[0m\u001b[0;34m.\u001b[0m\u001b[0mkey\u001b[0m\u001b[0;34m,\u001b[0m \u001b[0mcoll\u001b[0m\u001b[0;34m.\u001b[0m\u001b[0madd\u001b[0m\u001b[0;34m(\u001b[0m\u001b[0mvalue\u001b[0m\u001b[0;34m)\u001b[0m\u001b[0;34m)\u001b[0m\u001b[0;34m\u001b[0m\u001b[0;34m\u001b[0m\u001b[0m\n\u001b[0m\u001b[1;32m     28\u001b[0m \u001b[0;34m\u001b[0m\u001b[0m\n\u001b[1;32m     29\u001b[0m \u001b[0;34m\u001b[0m\u001b[0m\n",
            "\u001b[0;32m/usr/local/lib/python3.7/dist-packages/openpyxl/utils/indexed_list.py\u001b[0m in \u001b[0;36madd\u001b[0;34m(self, value)\u001b[0m\n\u001b[1;32m     47\u001b[0m     \u001b[0;32mdef\u001b[0m \u001b[0madd\u001b[0m\u001b[0;34m(\u001b[0m\u001b[0mself\u001b[0m\u001b[0;34m,\u001b[0m \u001b[0mvalue\u001b[0m\u001b[0;34m)\u001b[0m\u001b[0;34m:\u001b[0m\u001b[0;34m\u001b[0m\u001b[0;34m\u001b[0m\u001b[0m\n\u001b[1;32m     48\u001b[0m         \u001b[0mself\u001b[0m\u001b[0;34m.\u001b[0m\u001b[0mappend\u001b[0m\u001b[0;34m(\u001b[0m\u001b[0mvalue\u001b[0m\u001b[0;34m)\u001b[0m\u001b[0;34m\u001b[0m\u001b[0;34m\u001b[0m\u001b[0m\n\u001b[0;32m---> 49\u001b[0;31m         \u001b[0;32mreturn\u001b[0m \u001b[0mself\u001b[0m\u001b[0;34m.\u001b[0m\u001b[0m_dict\u001b[0m\u001b[0;34m[\u001b[0m\u001b[0mvalue\u001b[0m\u001b[0;34m]\u001b[0m\u001b[0;34m\u001b[0m\u001b[0;34m\u001b[0m\u001b[0m\n\u001b[0m",
            "\u001b[0;32m/usr/local/lib/python3.7/dist-packages/openpyxl/descriptors/serialisable.py\u001b[0m in \u001b[0;36m__hash__\u001b[0;34m(self)\u001b[0m\n\u001b[1;32m    210\u001b[0m             \u001b[0mfields\u001b[0m\u001b[0;34m.\u001b[0m\u001b[0mappend\u001b[0m\u001b[0;34m(\u001b[0m\u001b[0mval\u001b[0m\u001b[0;34m)\u001b[0m\u001b[0;34m\u001b[0m\u001b[0;34m\u001b[0m\u001b[0m\n\u001b[1;32m    211\u001b[0m \u001b[0;34m\u001b[0m\u001b[0m\n\u001b[0;32m--> 212\u001b[0;31m         \u001b[0;32mreturn\u001b[0m \u001b[0mhash\u001b[0m\u001b[0;34m(\u001b[0m\u001b[0mtuple\u001b[0m\u001b[0;34m(\u001b[0m\u001b[0mfields\u001b[0m\u001b[0;34m)\u001b[0m\u001b[0;34m)\u001b[0m\u001b[0;34m\u001b[0m\u001b[0;34m\u001b[0m\u001b[0m\n\u001b[0m\u001b[1;32m    213\u001b[0m \u001b[0;34m\u001b[0m\u001b[0m\n\u001b[1;32m    214\u001b[0m \u001b[0;34m\u001b[0m\u001b[0m\n",
            "\u001b[0;32m/usr/local/lib/python3.7/dist-packages/openpyxl/descriptors/serialisable.py\u001b[0m in \u001b[0;36m__hash__\u001b[0;34m(self)\u001b[0m\n\u001b[1;32m    204\u001b[0m     \u001b[0;32mdef\u001b[0m \u001b[0m__hash__\u001b[0m\u001b[0;34m(\u001b[0m\u001b[0mself\u001b[0m\u001b[0;34m)\u001b[0m\u001b[0;34m:\u001b[0m\u001b[0;34m\u001b[0m\u001b[0;34m\u001b[0m\u001b[0m\n\u001b[1;32m    205\u001b[0m         \u001b[0mfields\u001b[0m \u001b[0;34m=\u001b[0m \u001b[0;34m[\u001b[0m\u001b[0;34m]\u001b[0m\u001b[0;34m\u001b[0m\u001b[0;34m\u001b[0m\u001b[0m\n\u001b[0;32m--> 206\u001b[0;31m         \u001b[0;32mfor\u001b[0m \u001b[0mattr\u001b[0m \u001b[0;32min\u001b[0m \u001b[0mself\u001b[0m\u001b[0;34m.\u001b[0m\u001b[0m__attrs__\u001b[0m \u001b[0;34m+\u001b[0m \u001b[0mself\u001b[0m\u001b[0;34m.\u001b[0m\u001b[0m__elements__\u001b[0m\u001b[0;34m:\u001b[0m\u001b[0;34m\u001b[0m\u001b[0;34m\u001b[0m\u001b[0m\n\u001b[0m\u001b[1;32m    207\u001b[0m             \u001b[0mval\u001b[0m \u001b[0;34m=\u001b[0m \u001b[0mgetattr\u001b[0m\u001b[0;34m(\u001b[0m\u001b[0mself\u001b[0m\u001b[0;34m,\u001b[0m \u001b[0mattr\u001b[0m\u001b[0;34m)\u001b[0m\u001b[0;34m\u001b[0m\u001b[0;34m\u001b[0m\u001b[0m\n\u001b[1;32m    208\u001b[0m             \u001b[0;32mif\u001b[0m \u001b[0misinstance\u001b[0m\u001b[0;34m(\u001b[0m\u001b[0mval\u001b[0m\u001b[0;34m,\u001b[0m \u001b[0mlist\u001b[0m\u001b[0;34m)\u001b[0m\u001b[0;34m:\u001b[0m\u001b[0;34m\u001b[0m\u001b[0;34m\u001b[0m\u001b[0m\n",
            "\u001b[0;31mKeyboardInterrupt\u001b[0m: "
          ]
        }
      ]
    },
    {
      "cell_type": "code",
      "source": [
        "File_name='CID FILE.xlsx'\n",
        "\n",
        "df1.to_excel(File_name)\n",
        "files.download(File_name)"
      ],
      "metadata": {
        "id": "hlYkUifoB97a",
        "colab": {
          "base_uri": "https://localhost:8080/",
          "height": 17
        },
        "outputId": "99d73177-0388-4a6a-b72a-840f32780abb"
      },
      "execution_count": null,
      "outputs": [
        {
          "output_type": "display_data",
          "data": {
            "text/plain": [
              "<IPython.core.display.Javascript object>"
            ],
            "application/javascript": [
              "\n",
              "    async function download(id, filename, size) {\n",
              "      if (!google.colab.kernel.accessAllowed) {\n",
              "        return;\n",
              "      }\n",
              "      const div = document.createElement('div');\n",
              "      const label = document.createElement('label');\n",
              "      label.textContent = `Downloading \"${filename}\": `;\n",
              "      div.appendChild(label);\n",
              "      const progress = document.createElement('progress');\n",
              "      progress.max = size;\n",
              "      div.appendChild(progress);\n",
              "      document.body.appendChild(div);\n",
              "\n",
              "      const buffers = [];\n",
              "      let downloaded = 0;\n",
              "\n",
              "      const channel = await google.colab.kernel.comms.open(id);\n",
              "      // Send a message to notify the kernel that we're ready.\n",
              "      channel.send({})\n",
              "\n",
              "      for await (const message of channel.messages) {\n",
              "        // Send a message to notify the kernel that we're ready.\n",
              "        channel.send({})\n",
              "        if (message.buffers) {\n",
              "          for (const buffer of message.buffers) {\n",
              "            buffers.push(buffer);\n",
              "            downloaded += buffer.byteLength;\n",
              "            progress.value = downloaded;\n",
              "          }\n",
              "        }\n",
              "      }\n",
              "      const blob = new Blob(buffers, {type: 'application/binary'});\n",
              "      const a = document.createElement('a');\n",
              "      a.href = window.URL.createObjectURL(blob);\n",
              "      a.download = filename;\n",
              "      div.appendChild(a);\n",
              "      a.click();\n",
              "      div.remove();\n",
              "    }\n",
              "  "
            ]
          },
          "metadata": {}
        },
        {
          "output_type": "display_data",
          "data": {
            "text/plain": [
              "<IPython.core.display.Javascript object>"
            ],
            "application/javascript": [
              "download(\"download_7366c85f-8589-449a-a7a9-47cf7f081d83\", \"CID FILE.xlsx\", 192729)"
            ]
          },
          "metadata": {}
        }
      ]
    }
  ]
}