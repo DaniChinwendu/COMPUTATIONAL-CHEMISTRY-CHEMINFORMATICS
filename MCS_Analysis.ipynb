{
  "cells": [
    {
      "cell_type": "markdown",
      "metadata": {
        "id": "view-in-github",
        "colab_type": "text"
      },
      "source": [
        "<a href=\"https://colab.research.google.com/github/DaniChinwendu/COMPUTATIONAL-CHEMISTRY-CHEMINFORMATICS/blob/main/MCS_Analysis.ipynb\" target=\"_parent\"><img src=\"https://colab.research.google.com/assets/colab-badge.svg\" alt=\"Open In Colab\"/></a>"
      ]
    },
    {
      "cell_type": "code",
      "execution_count": null,
      "metadata": {
        "colab": {
          "base_uri": "https://localhost:8080/"
        },
        "id": "Z62NefeIWPt9",
        "outputId": "3a5a2b78-4f51-46ee-c6a8-8d1bd67b58d7"
      },
      "outputs": [
        {
          "name": "stdout",
          "output_type": "stream",
          "text": [
            "Requirement already satisfied: rdkit-pypi in /usr/local/lib/python3.7/dist-packages (2022.3.2.1)\n",
            "Requirement already satisfied: Pillow in /usr/local/lib/python3.7/dist-packages (from rdkit-pypi) (7.1.2)\n",
            "Requirement already satisfied: numpy in /usr/local/lib/python3.7/dist-packages (from rdkit-pypi) (1.21.6)\n"
          ]
        }
      ],
      "source": [
        "pip install rdkit-pypi"
      ]
    },
    {
      "cell_type": "code",
      "execution_count": null,
      "metadata": {
        "colab": {
          "background_save": true,
          "base_uri": "https://localhost:8080/",
          "height": 107,
          "resources": {
            "http://localhost:8080/nbextensions/google.colab/files.js": {
              "data": "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",
              "headers": [
                [
                  "content-type",
                  "application/javascript"
                ]
              ],
              "ok": true,
              "status": 200,
              "status_text": ""
            }
          }
        },
        "id": "cUaXbiWlW8nt",
        "outputId": "a4720a5f-b56d-4038-e2ba-63c0525d46a7"
      },
      "outputs": [
        {
          "data": {
            "text/html": [
              "\n",
              "     <input type=\"file\" id=\"files-1178c1f0-b01d-45e1-9fc3-b5b116c8d523\" name=\"files[]\" multiple disabled\n",
              "        style=\"border:none\" />\n",
              "     <output id=\"result-1178c1f0-b01d-45e1-9fc3-b5b116c8d523\">\n",
              "      Upload widget is only available when the cell has been executed in the\n",
              "      current browser session. Please rerun this cell to enable.\n",
              "      </output>\n",
              "      <script src=\"/nbextensions/google.colab/files.js\"></script> "
            ],
            "text/plain": [
              "<IPython.core.display.HTML object>"
            ]
          },
          "metadata": {},
          "output_type": "display_data"
        }
      ],
      "source": [
        "from rdkit import Chem\n",
        "from rdkit.Chem import rdFMCS\n",
        "from google.colab import files\n",
        "uploaded=files.upload()\n",
        "import pandas as pd"
      ]
    },
    {
      "cell_type": "code",
      "execution_count": null,
      "metadata": {
        "id": "-xqLzFgLo6kI"
      },
      "outputs": [],
      "source": [
        "import io"
      ]
    },
    {
      "cell_type": "code",
      "execution_count": null,
      "metadata": {
        "id": "IyQCkp5bo_kc"
      },
      "outputs": [],
      "source": [
        "df=pd.read_excel(io.BytesIO(uploaded['No TT alerts - incorrect predictions.4.28.22.xlsx']))"
      ]
    },
    {
      "cell_type": "code",
      "execution_count": null,
      "metadata": {
        "id": "kOvB5UFZp5wK"
      },
      "outputs": [],
      "source": [
        "df.head()\n",
        "from rdkit.Chem import Draw"
      ]
    },
    {
      "cell_type": "code",
      "execution_count": null,
      "metadata": {
        "colab": {
          "base_uri": "https://localhost:8080/"
        },
        "id": "1BRkKn67qEs7",
        "outputId": "a563dee5-8d15-45b1-fff5-79e97cc766d9"
      },
      "outputs": [
        {
          "data": {
            "text/plain": [
              "0                    COC(Cc1ccccc1)OC\n",
              "1                     CCCc1ccc(OC)cc1\n",
              "2                     CCCCCCCC(=O)OCC\n",
              "3    CC(O)C(C)(C)\\C=C\\C1CC=C(C)C1(C)C\n",
              "4                 CCCCCCCC(=O)OCCCCCC\n",
              "Name: SMILES, dtype: object"
            ]
          },
          "execution_count": 7,
          "metadata": {},
          "output_type": "execute_result"
        }
      ],
      "source": [
        "Mol=df['SMILES']\n",
        "Mol.head()"
      ]
    },
    {
      "cell_type": "code",
      "execution_count": null,
      "metadata": {
        "colab": {
          "base_uri": "https://localhost:8080/"
        },
        "id": "-TGlDScUqYY4",
        "outputId": "10c559bb-95ff-4f31-82c2-92f850130fa4"
      },
      "outputs": [
        {
          "name": "stdout",
          "output_type": "stream",
          "text": [
            "['COC(Cc1ccccc1)OC', 'CCCc1ccc(OC)cc1', 'CCCCCCCC(=O)OCC', 'CC(O)C(C)(C)\\\\C=C\\\\C1CC=C(C)C1(C)C', 'CCCCCCCC(=O)OCCCCCC', 'CCCCCCCCCCCCCCO', 'CC(=O)NCCS', 'CCOC(=O)CC(SP(=S)(OC)OC)C(=O)OCC', 'CCC(=O)OCCCc1ccccc1', 'COC1=CC(=O)C[C@@H](C)[C@]12Oc3c(Cl)c(OC)cc(OC)c3C2=O', 'O=[Cr](=O)=O', 'CC(C)C1CC[C@H]2C(CC[C@H]3[C@](C)(CO)CCC[C@]23C)C1', 'SCCN1CCCC1=O', '[Na+].Nc1ccc(cc1)S(=O)(=O)[N-]c2nccs2', 'SCCS(=O)(=O)CCS', 'CCCCN(CCCC)CCCOC(=O)c1ccc(N)cc1.CCCCN(CCCC)CCCOC(=O)c2ccc(N)cc2.OS(=O)(=O)O', 'CCC(C)CCC(C)(O)CC', 'CC1CCOC(C1)C=C(C)C', 'CC(=CC1CC(=CCO1)C)C', 'CCC\\\\C=C\\\\C(OC)OC', 'CCCCCC(C)(O)C=C', 'NC(CS)C(=O)O', 'OS(=O)(=O)CCS', 'CC(C)C1CCC2CC(O)CCC2C1', 'CC(CCCC(=O)C)CCC=C(C)C', 'SCCN1CCOCC1', 'CC(CO)Cc1ccc(cc1)C(C)C', 'CCN(CC)CCCC(C)Nc1ccnc2cc(Cl)ccc12.OP(=O)(O)O.OP(=O)(O)O', 'Cl.CCN(CC)CCOC(=O)c1ccc(N)cc1', 'CCCCCC\\\\C(=C\\\\C#N)\\\\C', 'CCN(CC)CCCC(C)Nc1ccnc2cc(Cl)ccc12', 'Cl.CC(CN1c2ccccc2Sc3ccccc13)N(C)C', 'OCC(S)CS', 'COC(=O)c1ccc(N)cc1', 'CC(=O)O[Hg]c1ccccc1', 'Nc1ccc(cc1)S(=O)(=O)N', 'CCC\\\\C=C\\\\C(OCC)OCC', 'CC(C)C1=CCC(=CC1)CCOC=O', 'OC(=O)CC(S)C(=O)O', 'CC(=O)OC(C)(C)CC\\\\C=C(/C)\\\\C=C', 'CCCCOC(=O)CC(S)C(=O)OCCCC', 'NC(=O)CS', 'NNC(=O)CS', 'NC(=O)CCS', 'C[C@@H]1CC[C@H]2C(C)(C)[C@H]3C[C@@]12CC[C@@]3(C)O', 'CC(S)C(=O)O', 'CC1=CC[C@H]2C[C@@H]1C2(C)C', 'CC1CCCC(=O)O1', 'CN1CCC2=C(C1)C(c3ccccc3)c4ccccc24', 'CCN(CC)CCCC(C)Nc1c2ccc(Cl)cc2nc3ccc(OC)cc13', 'CCCCOc1cc(C(=O)NCCN(CC)CC)c2ccccc2n1', 'CNc1ccccc1C(=O)OC', 'N\\\\N=C/1\\\\NN=Cc2ccccc12', 'Oc1ccc(Cl)cc1Cc2cc(Cl)ccc2O', 'CCCCOC(=O)C(C)C', 'COC(=O)c1ccc(C)cc1', 'NN', 'C(=O)C=O', 'C1[C@@H]2[C@@]([C@@H]3C(C=C(C(C)C)CC3)=C1)(CCC[C@]2(C(O)=O)C)C', 'C(C(COC(=O)CS)O)O', 'CN(C)C(=S)SSC(=S)N(C)C', 'c1ccc(cc1)N', 'c1cc(C(OCC)=O)ccc1N', 'C(C(CO)([N+](=O)[O-])Br)O', 'c1(c(cccc1)O)C(OCCCCCC)=O', 'C([C@@](C=C)(C)O)C\\\\C=C(\\\\C)C', 'c1cc(ccc1C(=O)O)N', 'c1(ccc(OC)cc1)CO', 'c1(c(O)c(C(C)(C)C)cc(c1)C)C(C)(C)C', 'C([C@@H](C)O)CO', 'C(CC/C=C(/C)C)(CCO)C', 'N(CCO)CCO', 'C(C)(C)O', 'C(CCCCCCCCCCCC)C(=O)OC(C)C', 'C([C@@H]1CCC(C)=CC1)(C)=C', 'c1(c(cccc1)O)C(OC)=O', 'c1(ccccc1)OCCO', 'c1c(O)ccc(C(OCCC)=O)c1', 'C([C@@H](C)O)O', 'c1ccncc1', 'c1(Oc2c(cc(Cl)cc2)Cl)c(cc(Cl)cc1)O', 'N(CCO)(CCO)CCO', 'c1(c(cc(C(F)(F)F)cc1[N+](=O)[O-])[N+](=O)[O-])N(CCCC)CC', 'c1(c(c(cc(c1)[N+](=O)[O-])[N+](=O)[O-])O)[N+](=O)[O-]', 'c1(c(cc([N+](=O)[O-])cc1[N+](=O)[O-])[N+](=O)[O-])N([N+](=O)[O-])C', 'C(OCCC)/C(=N\\\\c1c(C(F)(F)F)cc(Cl)cc1)n1cncc1', 'c12c3c4c(cccc4)C(c1cccc2ccc3)=O', 'C(CNC(=S)[S-])NC(=S)[S-].[Na+].[Na+]', 'COC(=O)c1ccccc1C(=O)OC', 'C(CO)NC', 'OOC1(CCCCC1)OOC2(O)CCCCC2', 'c1(c(cccc1)Cl)[N+](=O)[O-]', 'C(CS)(=O)[O-].[NH4+]', 'C(CCCCCC)CCCCCS', 'C/C(=N\\\\OCc1ccccc1/C(=N/OC)/C(=O)OC)/c2cccc(c2)C(F)(F)F', 'C1(CCCCC1)N', 'C(=S)=S', 'S(OOS(=O)(=O)[O-])(=O)(=O)[O-].[NH4+].[NH4+]', 'C(N)#N', 'c12c(C(c3c(cccc3C1=O)Cl)=O)cccc2[N+](=O)[O-]', 'C(CCCCCCCCC)CCCCCCCCO', 'C1CNCCN1', 'C(=O)(/N=N/C(=O)N)N', 'c1(c2ccccc2)ccccc1', 'c12c(C(c3ccccc3C1=O)=O)ccc(c2Cl)C', 'CCCCCCCCCc1ccccc1OP(Oc2ccccc2CCCCCCCCC)Oc3ccccc3CCCCCCCCC', '[Na+].CCCCCC[C@@H](O)C\\\\C=C/CCCCCCCC(=O)[O-]', 'C1CNCCN1.Cl.Cl', 'C1N2CN3CN(CN1C3)C2', 'c12c3c4c5c(cccc5)C(c3ccc1c1c(cccc1)C(c2cc4)=O)=O', '[Cr](=O)(=O)([O-])[O-].[K+].[K+]', 'Nc1ccc(cc1)S(=O)(=O)Nc2nccs2', 'C(CO)O', 'c1(cc(ccc1)Cl)[N+](=O)[O-]', 'CC1(C)[C@H]2CCC(=C)[C@@H]1C2', 'C(CNC(=S)S)NC(=S)S', '[N+](=C)=[N-]', 'CN1CN(C(=S)SC1)C', 'CNC(=O)ON=C(SC)C(=O)N(C)C', 'c1(c(cccc1)CCCCCCCCCCCC)S(=O)(=O)[O-].[Na+]', 'C(=O)O', 'CNC(=O)ON=C(C)C(C)SC', 'c1(ccc(S(=O)(=O)[O-])cc1)CCCCCCCCCCCCC.[Na+]', 'CCCCCCCCCCCCCCCCCC(=O)OC[C@@H](O)[C@H]1OC[C@H](O)[C@H]1O', 'C(N1CCN(CC1)C(C(Cl)(Cl)Cl)NC=O)(C(Cl)(Cl)Cl)NC=O', 'c1(c(cc(S(N)(=O)=O)cc1[N+](=O)[O-])[N+](=O)[O-])N(CCC)CCC', 'c1ccsc1', 'CNC(=O)ON=C(C)C(C)S(=O)(=O)C', 'C(=O)/C(=C(\\\\C(=O)O)/Cl)/Cl', 'c12c(C(c3ccccc3C1=O)=O)cccc2', 'c12c(C(c3ccccc3C1=O)=O)cccc2Cl', 'c12c(C(c3c(cccc3C1=O)Cl)=O)cccc2N', 'C(CCS)CC', 'CCO', 'CC(=O)N1CCN(CC1)c2ccc(cc2)OC[C@@H]3CO[C@@](O3)(Cn4ccnc4)c5ccc(cc5Cl)Cl', 'c1(oc(cc1)/C=N/NC(=O)N)[N+](=O)[O-]', 'C(NCC)(NCC)=S', 'c1(c2ccc(N)cc2)ccc(N)cc1', 'c1(c(cc(C(F)(F)F)cc1[N+](=O)[O-])[N+](=O)[O-])N(CC(C)=C)CC', 'N1(CCNC(=N)N)CCCCCCC1', 'c1(c(cccc1)O)C', 'c1(C(=O)OCC(CCCC)CC)ccc(cc1)N(C)C', 'S(c1ccc(N)cc1)(c1ccc(N)cc1)(=O)=O', 'c1(c(c(cc(c1)[N+](=O)[O-])[N+](=O)[O-])[O-])[N+](=O)[O-].[NH4+]', 'C(OO)(C)(C)C', 'C1C=CC=C1', 'C1(CCCCCN1)=O', 'c1(ccc(cc1)CCCCCCCCC)OCCOCCOCCOCCOCCOCCOCCOCCOCCO', 'N(CCN(CC(O)=O)CC(O)=O)(CC(O)=O)CC(O)=O', 'S(=O)(=O)(c1ccc(cc1)C)Cl']\n"
          ]
        }
      ],
      "source": [
        "Mc=list(Mol)\n",
        "print(Mc)"
      ]
    },
    {
      "cell_type": "code",
      "execution_count": null,
      "metadata": {
        "id": "BhSjHx4Fqppv"
      },
      "outputs": [],
      "source": [
        "Mc_list=[]\n",
        "for smiles in Mc:\n",
        "    chem=Chem.MolFromSmiles(smiles)\n",
        "    Mc_list.append(chem)"
      ]
    },
    {
      "cell_type": "code",
      "execution_count": null,
      "metadata": {
        "id": "BkpXvJij64a5"
      },
      "outputs": [],
      "source": [
        ""
      ]
    },
    {
      "cell_type": "code",
      "execution_count": null,
      "metadata": {
        "id": "LuGNuYjxyurJ"
      },
      "outputs": [],
      "source": [
        "img=Draw.MolsToGridImage(Mc_list,molsPerRow=4)\n",
        "img"
      ]
    },
    {
      "cell_type": "code",
      "execution_count": null,
      "metadata": {
        "colab": {
          "base_uri": "https://localhost:8080/"
        },
        "id": "pWKy1iz3lsi8",
        "outputId": "0de5e734-261a-40ab-92fb-c9ffcfd2f34e"
      },
      "outputs": [
        {
          "name": "stdout",
          "output_type": "stream",
          "text": [
            "there are 150 molecules in the list\n"
          ]
        }
      ],
      "source": [
        "print('there are',len(Mc_list),'molecules in the list')"
      ]
    },
    {
      "cell_type": "code",
      "execution_count": null,
      "metadata": {
        "colab": {
          "base_uri": "https://localhost:8080/"
        },
        "id": "3IDqxkR_l_o1",
        "outputId": "e7825f2c-ea65-4dcf-8482-7dcc76779177"
      },
      "outputs": [
        {
          "name": "stdout",
          "output_type": "stream",
          "text": [
            "10\n"
          ]
        }
      ],
      "source": [
        "\n",
        "#segmenting the first 10 batch\n",
        "MC1=Mc_list[:10]\n",
        "print (len(MC1))"
      ]
    },
    {
      "cell_type": "code",
      "execution_count": null,
      "metadata": {
        "colab": {
          "base_uri": "https://localhost:8080/"
        },
        "id": "N9ffAJkFmn80",
        "outputId": "9bf3c984-8f58-4c6d-a746-7eb9dc3479a9"
      },
      "outputs": [
        {
          "name": "stdout",
          "output_type": "stream",
          "text": [
            "MC1 contains 2 atoms and 1 bonds.\n",
            "SMARTS string: [#6]-[#6]\n"
          ]
        }
      ],
      "source": [
        "MC1_MCS=rdFMCS.FindMCS(MC1)\n",
        "print(f\"MC1 contains {MC1_MCS.numAtoms} atoms and {MC1_MCS.numBonds} bonds.\")\n",
        "print(\"SMARTS string:\",MC1_MCS.smartsString)"
      ]
    },
    {
      "cell_type": "code",
      "execution_count": null,
      "metadata": {
        "colab": {
          "base_uri": "https://localhost:8080/"
        },
        "id": "qic8ixepn5xd",
        "outputId": "2e808f1a-226e-43fb-ee03-668e90a79418"
      },
      "outputs": [
        {
          "name": "stdout",
          "output_type": "stream",
          "text": [
            "10\n",
            "MC2 contains 1 atoms and 0 bonds.\n",
            "SMARTS string: [#8]\n"
          ]
        }
      ],
      "source": [
        "MC2=Mc_list[10:20]\n",
        "print(len(MC2))\n",
        "MC2_MCS=rdFMCS.FindMCS(MC2)\n",
        "print(f\"MC2 contains {MC2_MCS.numAtoms} atoms and {MC2_MCS.numBonds} bonds.\")\n",
        "print(\"SMARTS string:\",MC2_MCS.smartsString)"
      ]
    },
    {
      "cell_type": "code",
      "execution_count": null,
      "metadata": {
        "colab": {
          "base_uri": "https://localhost:8080/"
        },
        "id": "jnJ4XK55pYKZ",
        "outputId": "4ab1059d-efcf-4bcb-a8bd-ce1a8ad219e3"
      },
      "outputs": [
        {
          "name": "stdout",
          "output_type": "stream",
          "text": [
            "10\n",
            "MC3 contains 2 atoms and 1 bonds.\n",
            "SMARTS string: [#6]-[#6]\n"
          ]
        }
      ],
      "source": [
        "MC3=Mc_list[20:30]\n",
        "\n",
        "print(len(MC3))\n",
        "MC3_MCS=rdFMCS.FindMCS(MC3)\n",
        "print(f\"MC3 contains {MC3_MCS.numAtoms} atoms and {MC3_MCS.numBonds} bonds.\")\n",
        "print(\"SMARTS string:\",MC3_MCS.smartsString)"
      ]
    },
    {
      "cell_type": "code",
      "execution_count": null,
      "metadata": {
        "colab": {
          "base_uri": "https://localhost:8080/"
        },
        "id": "l2dkFCMu1_RT",
        "outputId": "39c75477-7b7b-454f-9051-22f323e061bd"
      },
      "outputs": [
        {
          "name": "stdout",
          "output_type": "stream",
          "text": [
            "10\n",
            "MC4 contains 3 atoms and 2 bonds.\n",
            "SMARTS string: [#6]-,:[#6]-,:[#6]\n"
          ]
        }
      ],
      "source": [
        "MC4=Mc_list[30:40]\n",
        "\n",
        "print(len(MC4))\n",
        "MC4_MCS=rdFMCS.FindMCS(MC4)\n",
        "print(f\"MC4 contains {MC4_MCS.numAtoms} atoms and {MC4_MCS.numBonds} bonds.\")\n",
        "print(\"SMARTS string:\",MC4_MCS.smartsString)"
      ]
    },
    {
      "cell_type": "code",
      "execution_count": null,
      "metadata": {
        "colab": {
          "base_uri": "https://localhost:8080/"
        },
        "id": "Q-TWeaxI2dtv",
        "outputId": "3d63a560-dd40-41ea-b50b-51dc0f11bd49"
      },
      "outputs": [
        {
          "name": "stdout",
          "output_type": "stream",
          "text": [
            "10\n",
            "MC5 contains 2 atoms and 1 bonds.\n",
            "SMARTS string: [#6]-[#6]\n"
          ]
        }
      ],
      "source": [
        "MC5=Mc_list[40:50]\n",
        "\n",
        "print(len(MC5))\n",
        "MC5_MCS=rdFMCS.FindMCS(MC5)\n",
        "print(f\"MC5 contains {MC5_MCS.numAtoms} atoms and {MC5_MCS.numBonds} bonds.\")\n",
        "print(\"SMARTS string:\",MC5_MCS.smartsString)"
      ]
    },
    {
      "cell_type": "code",
      "execution_count": null,
      "metadata": {
        "colab": {
          "base_uri": "https://localhost:8080/"
        },
        "id": "7OdZKICt4Aio",
        "outputId": "7cbf99e4-97cd-46e6-af64-628321454be1"
      },
      "outputs": [
        {
          "name": "stdout",
          "output_type": "stream",
          "text": [
            "10\n",
            "MC6 contains 2 atoms and 1 bonds.\n",
            "SMARTS string: [#6]-[#6]\n"
          ]
        }
      ],
      "source": [
        "MC6=Mc_list[50:60]\n",
        "\n",
        "print(len(MC6))\n",
        "MC6_MCS=rdFMCS.FindMCS(MC5)\n",
        "print(f\"MC6 contains {MC6_MCS.numAtoms} atoms and {MC6_MCS.numBonds} bonds.\")\n",
        "print(\"SMARTS string:\",MC6_MCS.smartsString)"
      ]
    },
    {
      "cell_type": "code",
      "execution_count": null,
      "metadata": {
        "colab": {
          "base_uri": "https://localhost:8080/"
        },
        "id": "BiBtolSr4cxX",
        "outputId": "2238bc1e-f359-47ba-bece-e6c81f003760"
      },
      "outputs": [
        {
          "name": "stdout",
          "output_type": "stream",
          "text": [
            "10\n",
            "MC7 contains 1 atoms and 0 bonds.\n",
            "SMARTS string: [#6]\n"
          ]
        }
      ],
      "source": [
        "MC7=Mc_list[60:70]\n",
        "\n",
        "print(len(MC7))\n",
        "MC7_MCS=rdFMCS.FindMCS(MC7)\n",
        "print(f\"MC7 contains {MC7_MCS.numAtoms} atoms and {MC7_MCS.numBonds} bonds.\")\n",
        "print(\"SMARTS string:\",MC7_MCS.smartsString)"
      ]
    },
    {
      "cell_type": "code",
      "execution_count": null,
      "metadata": {
        "colab": {
          "base_uri": "https://localhost:8080/"
        },
        "id": "o2sbAwgE4zos",
        "outputId": "6da5e4a5-4381-4809-9299-bec9ce74f59d"
      },
      "outputs": [
        {
          "name": "stdout",
          "output_type": "stream",
          "text": [
            "10\n",
            "MC8 contains 2 atoms and 1 bonds.\n",
            "SMARTS string: [#6]-,:[#6]\n"
          ]
        }
      ],
      "source": [
        "MC8=Mc_list[70:80]\n",
        "\n",
        "print(len(MC8))\n",
        "MC8_MCS=rdFMCS.FindMCS(MC8)\n",
        "print(f\"MC8 contains {MC8_MCS.numAtoms} atoms and {MC8_MCS.numBonds} bonds.\")\n",
        "print(\"SMARTS string:\",MC8_MCS.smartsString)"
      ]
    },
    {
      "cell_type": "code",
      "execution_count": null,
      "metadata": {
        "colab": {
          "base_uri": "https://localhost:8080/"
        },
        "id": "cD4jmQlK5INN",
        "outputId": "85248ea1-d9f3-4ad5-e662-ef10fa381656"
      },
      "outputs": [
        {
          "name": "stdout",
          "output_type": "stream",
          "text": [
            "10\n",
            "MC9 contains 2 atoms and 0 bonds.\n",
            "SMARTS string: [#6]-,:[#6]\n"
          ]
        }
      ],
      "source": [
        "MC9=Mc_list[80:90]\n",
        "\n",
        "print(len(MC9))\n",
        "MC9_MCS=rdFMCS.FindMCS(MC9)\n",
        "print(f\"MC9 contains {MC9_MCS.numAtoms} atoms and {MC5_MCS.numBonds} bonds.\")\n",
        "print(\"SMARTS string:\",MC9_MCS.smartsString)"
      ]
    },
    {
      "cell_type": "code",
      "execution_count": null,
      "metadata": {
        "colab": {
          "base_uri": "https://localhost:8080/"
        },
        "id": "D0fISFsn6CN3",
        "outputId": "07539804-c1b1-4057-f26e-8269a9f8bb5e"
      },
      "outputs": [
        {
          "name": "stdout",
          "output_type": "stream",
          "text": [
            "10\n",
            "MC10 contains 1 atoms and 0 bonds.\n",
            "SMARTS string: [#6]\n"
          ]
        }
      ],
      "source": [
        "MC10=Mc_list[90:100]\n",
        "\n",
        "print(len(MC10))\n",
        "MC10_MCS=rdFMCS.FindMCS(MC10)\n",
        "print(f\"MC10 contains {MC10_MCS.numAtoms} atoms and {MC10_MCS.numBonds} bonds.\")\n",
        "print(\"SMARTS string:\",MC10_MCS.smartsString)"
      ]
    },
    {
      "cell_type": "code",
      "execution_count": null,
      "metadata": {
        "colab": {
          "base_uri": "https://localhost:8080/"
        },
        "id": "Ija5HCvF6dIp",
        "outputId": "73ddd8a9-d111-455c-ecc7-c95eab1a0726"
      },
      "outputs": [
        {
          "name": "stdout",
          "output_type": "stream",
          "text": [
            "10\n",
            "MC11 1 atoms and 0 bonds.\n",
            "SMARTS string: [#7]\n"
          ]
        }
      ],
      "source": [
        "MC11=Mc_list[100:110]\n",
        "\n",
        "print(len(MC11))\n",
        "MC11_MCS=rdFMCS.FindMCS(MC11)\n",
        "print(f\"MC11 {MC11_MCS.numAtoms} atoms and {MC11_MCS.numBonds} bonds.\")\n",
        "print(\"SMARTS string:\",MC11_MCS.smartsString)"
      ]
    },
    {
      "cell_type": "code",
      "execution_count": null,
      "metadata": {
        "colab": {
          "base_uri": "https://localhost:8080/"
        },
        "id": "MPUobCtj65AJ",
        "outputId": "3b07a6ce-24f0-4b85-9155-f937db4a7763"
      },
      "outputs": [
        {
          "name": "stdout",
          "output_type": "stream",
          "text": [
            "10\n",
            "MC12 contains 1 atoms and 0 bonds.\n",
            "SMARTS string: [#7]\n"
          ]
        }
      ],
      "source": [
        "MC12=Mc_list[110:120]\n",
        "\n",
        "print(len(MC12))\n",
        "MC12_MCS=rdFMCS.FindMCS(MC12)\n",
        "print(f\"MC12 contains {MC12_MCS.numAtoms} atoms and {MC12_MCS.numBonds} bonds.\")\n",
        "print(\"SMARTS string:\",MC12_MCS.smartsString)"
      ]
    },
    {
      "cell_type": "code",
      "execution_count": null,
      "metadata": {
        "colab": {
          "base_uri": "https://localhost:8080/"
        },
        "id": "nZ7-JcU-7qEO",
        "outputId": "b99cc8c0-3517-4c34-a092-96dceaadf018"
      },
      "outputs": [
        {
          "name": "stdout",
          "output_type": "stream",
          "text": [
            "10\n",
            "MC13 contains 1 atoms and 0 bonds.\n",
            "SMARTS string: [#6]\n"
          ]
        }
      ],
      "source": [
        "MC13=Mc_list[120:130]\n",
        "\n",
        "print(len(MC13))\n",
        "MC13_MCS=rdFMCS.FindMCS(MC13)\n",
        "print(f\"MC13 contains {MC13_MCS.numAtoms} atoms and {MC13_MCS.numBonds} bonds.\")\n",
        "print(\"SMARTS string:\",MC13_MCS.smartsString)"
      ]
    },
    {
      "cell_type": "code",
      "execution_count": null,
      "metadata": {
        "colab": {
          "base_uri": "https://localhost:8080/"
        },
        "id": "fdPcLLX48Cqs",
        "outputId": "139d9a02-cf59-432a-f467-89f12b632415"
      },
      "outputs": [
        {
          "name": "stdout",
          "output_type": "stream",
          "text": [
            "10\n",
            "MC14 contains 2 atoms and 1 bonds.\n",
            "SMARTS string: [#6]-,:[#6]\n"
          ]
        }
      ],
      "source": [
        "MC14=Mc_list[130:140]\n",
        "\n",
        "print(len(MC14))\n",
        "MC14_MCS=rdFMCS.FindMCS(MC14)\n",
        "print(f\"MC14 contains {MC14_MCS.numAtoms} atoms and {MC14_MCS.numBonds} bonds.\")\n",
        "print(\"SMARTS string:\",MC14_MCS.smartsString)"
      ]
    },
    {
      "cell_type": "code",
      "execution_count": null,
      "metadata": {
        "colab": {
          "base_uri": "https://localhost:8080/"
        },
        "id": "uCV7J3AX8fmS",
        "outputId": "bbbebc78-a47c-4a0e-c6df-9b82bdc16bb2"
      },
      "outputs": [
        {
          "name": "stdout",
          "output_type": "stream",
          "text": [
            "10\n",
            "MC15 contains 2 atoms and 1 bonds.\n",
            "SMARTS string: [#6]-,:[#6]\n"
          ]
        }
      ],
      "source": [
        "MC15=Mc_list[140:150]\n",
        "\n",
        "print(len(MC15))\n",
        "MC15_MCS=rdFMCS.FindMCS(MC15)\n",
        "print(f\"MC15 contains {MC15_MCS.numAtoms} atoms and {MC15_MCS.numBonds} bonds.\")\n",
        "print(\"SMARTS string:\",MC15_MCS.smartsString)"
      ]
    },
    {
      "cell_type": "code",
      "execution_count": null,
      "metadata": {
        "colab": {
          "base_uri": "https://localhost:8080/"
        },
        "id": "9qbymFx50gR1",
        "outputId": "68585611-0cbc-403c-ffeb-fc0ef2a177ba"
      },
      "outputs": [
        {
          "name": "stdout",
          "output_type": "stream",
          "text": [
            "[1, 2, 3, 4, 5]\n",
            "[6, 7, 8, 9]\n"
          ]
        }
      ],
      "source": [
        "\n",
        "#An intuition to understand how the molecules were divided. \n",
        "List=[1,2,3,4,5,6,7,8,9,7,10]\n",
        "print(List[:5])\n",
        "print(List[5:9])"
      ]
    }
  ],
  "metadata": {
    "colab": {
      "name": "MCS Analysis",
      "provenance": [],
      "authorship_tag": "ABX9TyMWMiRfTEtrV+waUHnJVyM7",
      "include_colab_link": true
    },
    "kernelspec": {
      "display_name": "Python 3",
      "name": "python3"
    },
    "language_info": {
      "name": "python"
    }
  },
  "nbformat": 4,
  "nbformat_minor": 0
}